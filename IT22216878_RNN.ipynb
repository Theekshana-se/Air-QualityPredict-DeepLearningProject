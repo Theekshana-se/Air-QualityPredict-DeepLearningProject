{
  "cells": [
    {
      "cell_type": "markdown",
      "metadata": {
        "id": "view-in-github",
        "colab_type": "text"
      },
      "source": [
        "<a href=\"https://colab.research.google.com/github/Theekshana-se/Air-QualityPredict-DeepLearningProject/blob/RNN/IT22216878_RNN.ipynb\" target=\"_parent\"><img src=\"https://colab.research.google.com/assets/colab-badge.svg\" alt=\"Open In Colab\"/></a>"
      ]
    },
    {
      "cell_type": "markdown",
      "id": "2b261f49",
      "metadata": {
        "id": "2b261f49"
      },
      "source": [
        "\n",
        "# Air Quality Forecasting (RNN) — v2 (Leakage‑safe, lagged target included)\n",
        "\n",
        "This revision fixes flat validation loss by:\n",
        "- fitting scalers **only on the training segment**,\n",
        "- including **past target values** as an input feature (lagged target),\n",
        "- building windows **per split** to prevent leakage.\n"
      ]
    },
    {
      "cell_type": "code",
      "source": [
        "from google.colab import drive\n",
        "drive.mount('/content/drive')"
      ],
      "metadata": {
        "colab": {
          "base_uri": "https://localhost:8080/"
        },
        "id": "RQRI-7yNYaJy",
        "outputId": "1db033a9-0826-490a-ef3d-f100d2245b5a"
      },
      "id": "RQRI-7yNYaJy",
      "execution_count": 1,
      "outputs": [
        {
          "output_type": "stream",
          "name": "stdout",
          "text": [
            "Mounted at /content/drive\n"
          ]
        }
      ]
    },
    {
      "cell_type": "code",
      "execution_count": 3,
      "id": "8f524240",
      "metadata": {
        "colab": {
          "base_uri": "https://localhost:8080/"
        },
        "id": "8f524240",
        "outputId": "fee2d7ba-fbb8-4926-adf6-ff20bc757810"
      },
      "outputs": [
        {
          "output_type": "stream",
          "name": "stdout",
          "text": [
            "TensorFlow: 2.19.0\n"
          ]
        }
      ],
      "source": [
        "\n",
        "import os, math, warnings, pickle, json\n",
        "warnings.filterwarnings(\"ignore\")\n",
        "\n",
        "import numpy as np\n",
        "import pandas as pd\n",
        "import matplotlib.pyplot as plt\n",
        "\n",
        "from sklearn.preprocessing import RobustScaler\n",
        "from sklearn.impute import SimpleImputer\n",
        "from sklearn.metrics import mean_squared_error, mean_absolute_error, r2_score\n",
        "\n",
        "import tensorflow as tf\n",
        "from tensorflow import keras\n",
        "from tensorflow.keras import layers\n",
        "\n",
        "SEED = 42\n",
        "np.random.seed(SEED)\n",
        "tf.random.set_seed(SEED)\n",
        "\n",
        "CSV_PATH   = \"/content/drive/MyDrive/data.csv\"\n",
        "TARGET     = \"no2\"\n",
        "LOOKBACK   = 24\n",
        "HORIZON    = 1\n",
        "TEST_FRAC  = 0.15\n",
        "VAL_FRAC   = 0.15\n",
        "MIN_TRAIN  = 64\n",
        "MIN_VAL    = 16\n",
        "MIN_TEST   = 16\n",
        "\n",
        "assert os.path.exists(CSV_PATH), f\"Dataset not found: {CSV_PATH}\"\n",
        "print(\"TensorFlow:\", tf.__version__)\n"
      ]
    },
    {
      "cell_type": "code",
      "execution_count": 4,
      "id": "0e959468",
      "metadata": {
        "colab": {
          "base_uri": "https://localhost:8080/"
        },
        "id": "0e959468",
        "outputId": "09f3da15-ce46-413b-b05e-15b0b42649fc"
      },
      "outputs": [
        {
          "output_type": "stream",
          "name": "stdout",
          "text": [
            "Using target: no2\n",
            "Rows: 435735 | Features (including target): 5\n"
          ]
        }
      ],
      "source": [
        "\n",
        "# Load dataset robustly\n",
        "encodings = [\"utf-8\",\"latin-1\",\"cp1252\"]\n",
        "df = None\n",
        "for enc in encodings:\n",
        "    try:\n",
        "        df = pd.read_csv(CSV_PATH, encoding=enc)\n",
        "        break\n",
        "    except Exception as e:\n",
        "        last_err = e\n",
        "if df is None:\n",
        "    raise ValueError(f\"Could not read CSV. Last error: {last_err}\")\n",
        "\n",
        "df.columns = [c.strip() for c in df.columns]\n",
        "\n",
        "# Detect date column (optional)\n",
        "date_candidates = [c for c in df.columns if c.lower() in [\"date\",\"datetime\",\"timestamp\"]]\n",
        "dt_col = date_candidates[0] if date_candidates else None\n",
        "if dt_col:\n",
        "    df[dt_col] = pd.to_datetime(df[dt_col], errors=\"coerce\")\n",
        "    df = df.dropna(subset=[dt_col])\n",
        "    df = df.sort_values(dt_col).reset_index(drop=True)\n",
        "\n",
        "# Target detection\n",
        "target_candidates = [TARGET, \"PM25\",\"pm2_5\",\"pm25\",\"AQI\",\"aqi\"]\n",
        "lower_map = {c.lower(): c for c in df.columns}\n",
        "found = None\n",
        "for name in target_candidates:\n",
        "    if name in df.columns:\n",
        "        found = name; break\n",
        "    if name.lower() in lower_map:\n",
        "        found = lower_map[name.lower()]; break\n",
        "if found is None:\n",
        "    raise ValueError(f\"Target column not found. Columns: {list(df.columns)[:30]}\")\n",
        "TARGET = found\n",
        "print(\"Using target:\", TARGET)\n",
        "\n",
        "# Keep numeric columns, ensure target numeric\n",
        "num_df = df.select_dtypes(include=[np.number]).copy()\n",
        "if TARGET not in num_df.columns:\n",
        "    num_df[TARGET] = pd.to_numeric(df[TARGET], errors=\"coerce\")\n",
        "\n",
        "# Impute numeric with medians\n",
        "imp = SimpleImputer(strategy=\"median\")\n",
        "num_np = imp.fit_transform(num_df)\n",
        "num_df = pd.DataFrame(num_np, columns=num_df.columns, index=num_df.index)\n",
        "\n",
        "# IMPORTANT: keep TARGET inside features so the model sees lagged TARGET\n",
        "values = num_df.values  # (N, F_all) includes TARGET\n",
        "cols = list(num_df.columns)\n",
        "F_all = values.shape[1]\n",
        "\n",
        "# Identify target index (for readability only; not used for slicing below)\n",
        "target_idx = cols.index(TARGET)\n",
        "\n",
        "N = len(values)\n",
        "print(\"Rows:\", N, \"| Features (including target):\", F_all)\n"
      ]
    },
    {
      "cell_type": "code",
      "execution_count": 5,
      "id": "0769d266",
      "metadata": {
        "colab": {
          "base_uri": "https://localhost:8080/"
        },
        "id": "0769d266",
        "outputId": "5bd7ed7c-b3d2-4ec4-9b82-2009db65fbc7"
      },
      "outputs": [
        {
          "output_type": "stream",
          "name": "stdout",
          "text": [
            "Split rows (pre-window): train=314817, val=55557, test=65361\n"
          ]
        }
      ],
      "source": [
        "\n",
        "# Split indices (time-ordered) before scaling\n",
        "def compute_splits(N, test_frac, val_frac):\n",
        "    test_n = max(MIN_TEST, int(math.ceil(test_frac * N)))\n",
        "    trainval_n = N - test_n\n",
        "    if trainval_n < (MIN_TRAIN + MIN_VAL):\n",
        "        test_n = max(MIN_TEST, N - (MIN_TRAIN + MIN_VAL))\n",
        "        trainval_n = N - test_n\n",
        "    val_n = max(MIN_VAL, int(math.ceil(val_frac * trainval_n)))\n",
        "    train_n = trainval_n - val_n\n",
        "    if train_n < MIN_TRAIN:\n",
        "        val_n = max(MIN_VAL, trainval_n - MIN_TRAIN)\n",
        "        train_n = trainval_n - val_n\n",
        "    return train_n, val_n, test_n\n",
        "\n",
        "train_n, val_n, test_n = compute_splits(N, TEST_FRAC, VAL_FRAC)\n",
        "print(f\"Split rows (pre-window): train={train_n}, val={val_n}, test={test_n}\")\n",
        "\n",
        "train_end = train_n\n",
        "val_end   = train_n + val_n\n",
        "\n",
        "train_raw = values[:train_end]\n",
        "val_raw   = values[train_end:val_end]\n",
        "test_raw  = values[val_end:]\n"
      ]
    },
    {
      "cell_type": "code",
      "execution_count": 6,
      "id": "4eb46346",
      "metadata": {
        "colab": {
          "base_uri": "https://localhost:8080/"
        },
        "id": "4eb46346",
        "outputId": "fdff94e2-076f-4c9c-e09d-0a16806d40e0"
      },
      "outputs": [
        {
          "output_type": "stream",
          "name": "stdout",
          "text": [
            "Scaled shapes: (314817, 5) (55557, 5) (65361, 5)\n"
          ]
        }
      ],
      "source": [
        "\n",
        "# Fit scalers ONLY on training segment\n",
        "x_scaler = RobustScaler()\n",
        "y_scaler = RobustScaler()\n",
        "\n",
        "# X = all features (including target), y = target-only column for each segment\n",
        "Xtr_raw, ytr_raw = train_raw, train_raw[:, [target_idx]]\n",
        "Xva_raw, yva_raw = val_raw,   val_raw[:,   [target_idx]]\n",
        "Xte_raw, yte_raw = test_raw,  test_raw[:,  [target_idx]]\n",
        "\n",
        "x_scaler.fit(Xtr_raw)\n",
        "y_scaler.fit(ytr_raw)\n",
        "\n",
        "Xtr = x_scaler.transform(Xtr_raw)\n",
        "Xva = x_scaler.transform(Xva_raw)\n",
        "Xte = x_scaler.transform(Xte_raw)\n",
        "\n",
        "ytr = y_scaler.transform(ytr_raw)\n",
        "yva = y_scaler.transform(yva_raw)\n",
        "yte = y_scaler.transform(yte_raw)\n",
        "\n",
        "print(\"Scaled shapes:\", Xtr.shape, Xva.shape, Xte.shape)\n"
      ]
    },
    {
      "cell_type": "code",
      "execution_count": 7,
      "id": "29de2283",
      "metadata": {
        "colab": {
          "base_uri": "https://localhost:8080/"
        },
        "id": "29de2283",
        "outputId": "4f11cc73-213d-485d-cb78-13d27ce31030"
      },
      "outputs": [
        {
          "output_type": "stream",
          "name": "stdout",
          "text": [
            "LOOKBACK_USED: 24\n",
            "Windows: 314793 55533 65337\n"
          ]
        }
      ],
      "source": [
        "\n",
        "# Window builders per split (no leakage across splits)\n",
        "def build_windows(Xs, ys, lookback, horizon):\n",
        "    N = len(Xs)\n",
        "    M = N - lookback - horizon + 1\n",
        "    if M <= 0:\n",
        "        return np.empty((0, lookback, Xs.shape[1])), np.empty((0, 1))\n",
        "    Xw = np.zeros((M, lookback, Xs.shape[1]), dtype=np.float32)\n",
        "    yw = np.zeros((M, 1), dtype=np.float32)\n",
        "    for i in range(M):\n",
        "        Xw[i] = Xs[i:i+lookback]\n",
        "        yw[i] = ys[i + lookback + horizon - 1]\n",
        "    return Xw, yw\n",
        "\n",
        "def ensure_min_windows(Xs, ys, lookback, horizon, minimum):\n",
        "    lb = int(lookback)\n",
        "    while lb >= 2:\n",
        "        Xw, yw = build_windows(Xs, ys, lb, horizon)\n",
        "        if len(Xw) >= minimum:\n",
        "            return Xw, yw, lb\n",
        "        lb -= 1\n",
        "    Xw, yw = build_windows(Xs, ys, 2, horizon)\n",
        "    return Xw, yw, 2\n",
        "\n",
        "# try to meet minimums per split\n",
        "Xw_tr, yw_tr, LB_tr = ensure_min_windows(Xtr, ytr, LOOKBACK, HORIZON, MIN_TRAIN)\n",
        "Xw_va, yw_va, LB_va = ensure_min_windows(Xva, yva, LOOKBACK, HORIZON, MIN_VAL)\n",
        "Xw_te, yw_te, LB_te = ensure_min_windows(Xte, yte, LOOKBACK, HORIZON, MIN_TEST)\n",
        "\n",
        "LOOKBACK_USED = min(LB_tr, LB_va, LB_te)\n",
        "print(\"LOOKBACK_USED:\", LOOKBACK_USED)\n",
        "\n",
        "# Rebuild with the common LOOKBACK_USED so shapes match\n",
        "Xw_tr, yw_tr = build_windows(Xtr, ytr, LOOKBACK_USED, HORIZON)\n",
        "Xw_va, yw_va = build_windows(Xva, yva, LOOKBACK_USED, HORIZON)\n",
        "Xw_te, yw_te = build_windows(Xte, yte, LOOKBACK_USED, HORIZON)\n",
        "\n",
        "print(\"Windows:\", len(Xw_tr), len(Xw_va), len(Xw_te))\n",
        "n_features = Xw_tr.shape[2]\n"
      ]
    },
    {
      "cell_type": "code",
      "execution_count": 8,
      "id": "4e4dc2ef",
      "metadata": {
        "colab": {
          "base_uri": "https://localhost:8080/"
        },
        "id": "4e4dc2ef",
        "outputId": "47b98169-9b6a-450d-e9b1-70073cfbf8a9"
      },
      "outputs": [
        {
          "output_type": "stream",
          "name": "stdout",
          "text": [
            "Baseline validation MSE (scaled): 1.5784\n"
          ]
        }
      ],
      "source": [
        "\n",
        "# Naive baseline (persistence): y_hat(t+1) = y(t)\n",
        "def naive_baseline(y_seq):\n",
        "    # MSE computed directly on scaled y for comparability\n",
        "    # For validation: use available windows count\n",
        "    return np.var(y_seq)  # not precise; better compute per-window baseline below\n",
        "\n",
        "def baseline_eval(y_windows, lookback):\n",
        "    # Predict next value as last value of the window (scaled)\n",
        "    y_last = []\n",
        "    for i in range(len(y_windows)):\n",
        "        y_last.append(y_windows[i, -1, target_idx])  # last row's TARGET in features\n",
        "    y_last = np.array(y_last).reshape(-1,1)\n",
        "    return y_last\n",
        "\n",
        "yhat_va_base = baseline_eval(Xw_va, LOOKBACK_USED)\n",
        "mse_base_va = mean_squared_error(yw_va, yhat_va_base)\n",
        "print(f\"Baseline validation MSE (scaled): {mse_base_va:.4f}\")\n"
      ]
    },
    {
      "cell_type": "code",
      "execution_count": 9,
      "id": "d12c2b42",
      "metadata": {
        "colab": {
          "base_uri": "https://localhost:8080/",
          "height": 1000
        },
        "id": "d12c2b42",
        "outputId": "269ecd1d-91e6-421a-d5fc-48a1f1049b0a"
      },
      "outputs": [
        {
          "output_type": "display_data",
          "data": {
            "text/plain": [
              "\u001b[1mModel: \"sequential\"\u001b[0m\n"
            ],
            "text/html": [
              "<pre style=\"white-space:pre;overflow-x:auto;line-height:normal;font-family:Menlo,'DejaVu Sans Mono',consolas,'Courier New',monospace\"><span style=\"font-weight: bold\">Model: \"sequential\"</span>\n",
              "</pre>\n"
            ]
          },
          "metadata": {}
        },
        {
          "output_type": "display_data",
          "data": {
            "text/plain": [
              "┏━━━━━━━━━━━━━━━━━━━━━━━━━━━━━━━━━┳━━━━━━━━━━━━━━━━━━━━━━━━┳━━━━━━━━━━━━━━━┓\n",
              "┃\u001b[1m \u001b[0m\u001b[1mLayer (type)                   \u001b[0m\u001b[1m \u001b[0m┃\u001b[1m \u001b[0m\u001b[1mOutput Shape          \u001b[0m\u001b[1m \u001b[0m┃\u001b[1m \u001b[0m\u001b[1m      Param #\u001b[0m\u001b[1m \u001b[0m┃\n",
              "┡━━━━━━━━━━━━━━━━━━━━━━━━━━━━━━━━━╇━━━━━━━━━━━━━━━━━━━━━━━━╇━━━━━━━━━━━━━━━┩\n",
              "│ simple_rnn (\u001b[38;5;33mSimpleRNN\u001b[0m)          │ (\u001b[38;5;45mNone\u001b[0m, \u001b[38;5;34m64\u001b[0m)             │         \u001b[38;5;34m4,480\u001b[0m │\n",
              "├─────────────────────────────────┼────────────────────────┼───────────────┤\n",
              "│ dropout (\u001b[38;5;33mDropout\u001b[0m)               │ (\u001b[38;5;45mNone\u001b[0m, \u001b[38;5;34m64\u001b[0m)             │             \u001b[38;5;34m0\u001b[0m │\n",
              "├─────────────────────────────────┼────────────────────────┼───────────────┤\n",
              "│ dense (\u001b[38;5;33mDense\u001b[0m)                   │ (\u001b[38;5;45mNone\u001b[0m, \u001b[38;5;34m32\u001b[0m)             │         \u001b[38;5;34m2,080\u001b[0m │\n",
              "├─────────────────────────────────┼────────────────────────┼───────────────┤\n",
              "│ dense_1 (\u001b[38;5;33mDense\u001b[0m)                 │ (\u001b[38;5;45mNone\u001b[0m, \u001b[38;5;34m1\u001b[0m)              │            \u001b[38;5;34m33\u001b[0m │\n",
              "└─────────────────────────────────┴────────────────────────┴───────────────┘\n"
            ],
            "text/html": [
              "<pre style=\"white-space:pre;overflow-x:auto;line-height:normal;font-family:Menlo,'DejaVu Sans Mono',consolas,'Courier New',monospace\">┏━━━━━━━━━━━━━━━━━━━━━━━━━━━━━━━━━┳━━━━━━━━━━━━━━━━━━━━━━━━┳━━━━━━━━━━━━━━━┓\n",
              "┃<span style=\"font-weight: bold\"> Layer (type)                    </span>┃<span style=\"font-weight: bold\"> Output Shape           </span>┃<span style=\"font-weight: bold\">       Param # </span>┃\n",
              "┡━━━━━━━━━━━━━━━━━━━━━━━━━━━━━━━━━╇━━━━━━━━━━━━━━━━━━━━━━━━╇━━━━━━━━━━━━━━━┩\n",
              "│ simple_rnn (<span style=\"color: #0087ff; text-decoration-color: #0087ff\">SimpleRNN</span>)          │ (<span style=\"color: #00d7ff; text-decoration-color: #00d7ff\">None</span>, <span style=\"color: #00af00; text-decoration-color: #00af00\">64</span>)             │         <span style=\"color: #00af00; text-decoration-color: #00af00\">4,480</span> │\n",
              "├─────────────────────────────────┼────────────────────────┼───────────────┤\n",
              "│ dropout (<span style=\"color: #0087ff; text-decoration-color: #0087ff\">Dropout</span>)               │ (<span style=\"color: #00d7ff; text-decoration-color: #00d7ff\">None</span>, <span style=\"color: #00af00; text-decoration-color: #00af00\">64</span>)             │             <span style=\"color: #00af00; text-decoration-color: #00af00\">0</span> │\n",
              "├─────────────────────────────────┼────────────────────────┼───────────────┤\n",
              "│ dense (<span style=\"color: #0087ff; text-decoration-color: #0087ff\">Dense</span>)                   │ (<span style=\"color: #00d7ff; text-decoration-color: #00d7ff\">None</span>, <span style=\"color: #00af00; text-decoration-color: #00af00\">32</span>)             │         <span style=\"color: #00af00; text-decoration-color: #00af00\">2,080</span> │\n",
              "├─────────────────────────────────┼────────────────────────┼───────────────┤\n",
              "│ dense_1 (<span style=\"color: #0087ff; text-decoration-color: #0087ff\">Dense</span>)                 │ (<span style=\"color: #00d7ff; text-decoration-color: #00d7ff\">None</span>, <span style=\"color: #00af00; text-decoration-color: #00af00\">1</span>)              │            <span style=\"color: #00af00; text-decoration-color: #00af00\">33</span> │\n",
              "└─────────────────────────────────┴────────────────────────┴───────────────┘\n",
              "</pre>\n"
            ]
          },
          "metadata": {}
        },
        {
          "output_type": "display_data",
          "data": {
            "text/plain": [
              "\u001b[1m Total params: \u001b[0m\u001b[38;5;34m6,593\u001b[0m (25.75 KB)\n"
            ],
            "text/html": [
              "<pre style=\"white-space:pre;overflow-x:auto;line-height:normal;font-family:Menlo,'DejaVu Sans Mono',consolas,'Courier New',monospace\"><span style=\"font-weight: bold\"> Total params: </span><span style=\"color: #00af00; text-decoration-color: #00af00\">6,593</span> (25.75 KB)\n",
              "</pre>\n"
            ]
          },
          "metadata": {}
        },
        {
          "output_type": "display_data",
          "data": {
            "text/plain": [
              "\u001b[1m Trainable params: \u001b[0m\u001b[38;5;34m6,593\u001b[0m (25.75 KB)\n"
            ],
            "text/html": [
              "<pre style=\"white-space:pre;overflow-x:auto;line-height:normal;font-family:Menlo,'DejaVu Sans Mono',consolas,'Courier New',monospace\"><span style=\"font-weight: bold\"> Trainable params: </span><span style=\"color: #00af00; text-decoration-color: #00af00\">6,593</span> (25.75 KB)\n",
              "</pre>\n"
            ]
          },
          "metadata": {}
        },
        {
          "output_type": "display_data",
          "data": {
            "text/plain": [
              "\u001b[1m Non-trainable params: \u001b[0m\u001b[38;5;34m0\u001b[0m (0.00 B)\n"
            ],
            "text/html": [
              "<pre style=\"white-space:pre;overflow-x:auto;line-height:normal;font-family:Menlo,'DejaVu Sans Mono',consolas,'Courier New',monospace\"><span style=\"font-weight: bold\"> Non-trainable params: </span><span style=\"color: #00af00; text-decoration-color: #00af00\">0</span> (0.00 B)\n",
              "</pre>\n"
            ]
          },
          "metadata": {}
        },
        {
          "output_type": "stream",
          "name": "stdout",
          "text": [
            "Epoch 1/100\n",
            "\u001b[1m2460/2460\u001b[0m \u001b[32m━━━━━━━━━━━━━━━━━━━━\u001b[0m\u001b[37m\u001b[0m \u001b[1m32s\u001b[0m 12ms/step - loss: 1.0820 - val_loss: 0.8397 - learning_rate: 0.0010\n",
            "Epoch 2/100\n",
            "\u001b[1m2460/2460\u001b[0m \u001b[32m━━━━━━━━━━━━━━━━━━━━\u001b[0m\u001b[37m\u001b[0m \u001b[1m49s\u001b[0m 15ms/step - loss: 1.0577 - val_loss: 0.8431 - learning_rate: 0.0010\n",
            "Epoch 3/100\n",
            "\u001b[1m2460/2460\u001b[0m \u001b[32m━━━━━━━━━━━━━━━━━━━━\u001b[0m\u001b[37m\u001b[0m \u001b[1m28s\u001b[0m 11ms/step - loss: 1.0532 - val_loss: 0.8335 - learning_rate: 0.0010\n",
            "Epoch 4/100\n",
            "\u001b[1m2460/2460\u001b[0m \u001b[32m━━━━━━━━━━━━━━━━━━━━\u001b[0m\u001b[37m\u001b[0m \u001b[1m27s\u001b[0m 11ms/step - loss: 1.0500 - val_loss: 0.8327 - learning_rate: 0.0010\n",
            "Epoch 5/100\n",
            "\u001b[1m2460/2460\u001b[0m \u001b[32m━━━━━━━━━━━━━━━━━━━━\u001b[0m\u001b[37m\u001b[0m \u001b[1m28s\u001b[0m 11ms/step - loss: 1.0502 - val_loss: 0.8347 - learning_rate: 0.0010\n",
            "Epoch 6/100\n",
            "\u001b[1m2460/2460\u001b[0m \u001b[32m━━━━━━━━━━━━━━━━━━━━\u001b[0m\u001b[37m\u001b[0m \u001b[1m42s\u001b[0m 12ms/step - loss: 1.0482 - val_loss: 0.8465 - learning_rate: 0.0010\n",
            "Epoch 7/100\n",
            "\u001b[1m2460/2460\u001b[0m \u001b[32m━━━━━━━━━━━━━━━━━━━━\u001b[0m\u001b[37m\u001b[0m \u001b[1m38s\u001b[0m 11ms/step - loss: 1.0471 - val_loss: 0.8363 - learning_rate: 0.0010\n",
            "Epoch 8/100\n",
            "\u001b[1m2460/2460\u001b[0m \u001b[32m━━━━━━━━━━━━━━━━━━━━\u001b[0m\u001b[37m\u001b[0m \u001b[1m41s\u001b[0m 11ms/step - loss: 1.0464 - val_loss: 0.8352 - learning_rate: 0.0010\n",
            "Epoch 9/100\n",
            "\u001b[1m2460/2460\u001b[0m \u001b[32m━━━━━━━━━━━━━━━━━━━━\u001b[0m\u001b[37m\u001b[0m \u001b[1m25s\u001b[0m 10ms/step - loss: 1.0468 - val_loss: 0.8369 - learning_rate: 0.0010\n",
            "Epoch 10/100\n",
            "\u001b[1m2460/2460\u001b[0m \u001b[32m━━━━━━━━━━━━━━━━━━━━\u001b[0m\u001b[37m\u001b[0m \u001b[1m45s\u001b[0m 12ms/step - loss: 1.0442 - val_loss: 0.8339 - learning_rate: 5.0000e-04\n",
            "Epoch 11/100\n",
            "\u001b[1m2460/2460\u001b[0m \u001b[32m━━━━━━━━━━━━━━━━━━━━\u001b[0m\u001b[37m\u001b[0m \u001b[1m26s\u001b[0m 11ms/step - loss: 1.0417 - val_loss: 0.8310 - learning_rate: 5.0000e-04\n",
            "Epoch 12/100\n",
            "\u001b[1m2460/2460\u001b[0m \u001b[32m━━━━━━━━━━━━━━━━━━━━\u001b[0m\u001b[37m\u001b[0m \u001b[1m25s\u001b[0m 10ms/step - loss: 1.0410 - val_loss: 0.8334 - learning_rate: 5.0000e-04\n",
            "Epoch 13/100\n",
            "\u001b[1m2460/2460\u001b[0m \u001b[32m━━━━━━━━━━━━━━━━━━━━\u001b[0m\u001b[37m\u001b[0m \u001b[1m27s\u001b[0m 11ms/step - loss: 1.0396 - val_loss: 0.8323 - learning_rate: 5.0000e-04\n",
            "Epoch 14/100\n",
            "\u001b[1m2460/2460\u001b[0m \u001b[32m━━━━━━━━━━━━━━━━━━━━\u001b[0m\u001b[37m\u001b[0m \u001b[1m40s\u001b[0m 11ms/step - loss: 1.0389 - val_loss: 0.8338 - learning_rate: 5.0000e-04\n",
            "Epoch 15/100\n",
            "\u001b[1m2460/2460\u001b[0m \u001b[32m━━━━━━━━━━━━━━━━━━━━\u001b[0m\u001b[37m\u001b[0m \u001b[1m27s\u001b[0m 11ms/step - loss: 1.0381 - val_loss: 0.8353 - learning_rate: 5.0000e-04\n",
            "Epoch 16/100\n",
            "\u001b[1m2460/2460\u001b[0m \u001b[32m━━━━━━━━━━━━━━━━━━━━\u001b[0m\u001b[37m\u001b[0m \u001b[1m30s\u001b[0m 12ms/step - loss: 1.0382 - val_loss: 0.8330 - learning_rate: 5.0000e-04\n",
            "Epoch 17/100\n",
            "\u001b[1m2460/2460\u001b[0m \u001b[32m━━━━━━━━━━━━━━━━━━━━\u001b[0m\u001b[37m\u001b[0m \u001b[1m29s\u001b[0m 12ms/step - loss: 1.0357 - val_loss: 0.8297 - learning_rate: 2.5000e-04\n",
            "Epoch 18/100\n",
            "\u001b[1m2460/2460\u001b[0m \u001b[32m━━━━━━━━━━━━━━━━━━━━\u001b[0m\u001b[37m\u001b[0m \u001b[1m37s\u001b[0m 15ms/step - loss: 1.0351 - val_loss: 0.8294 - learning_rate: 2.5000e-04\n",
            "Epoch 19/100\n",
            "\u001b[1m2460/2460\u001b[0m \u001b[32m━━━━━━━━━━━━━━━━━━━━\u001b[0m\u001b[37m\u001b[0m \u001b[1m28s\u001b[0m 11ms/step - loss: 1.0340 - val_loss: 0.8293 - learning_rate: 2.5000e-04\n",
            "Epoch 20/100\n",
            "\u001b[1m2460/2460\u001b[0m \u001b[32m━━━━━━━━━━━━━━━━━━━━\u001b[0m\u001b[37m\u001b[0m \u001b[1m28s\u001b[0m 11ms/step - loss: 1.0331 - val_loss: 0.8307 - learning_rate: 2.5000e-04\n",
            "Epoch 21/100\n",
            "\u001b[1m2460/2460\u001b[0m \u001b[32m━━━━━━━━━━━━━━━━━━━━\u001b[0m\u001b[37m\u001b[0m \u001b[1m28s\u001b[0m 11ms/step - loss: 1.0317 - val_loss: 0.8320 - learning_rate: 2.5000e-04\n",
            "Epoch 22/100\n",
            "\u001b[1m2460/2460\u001b[0m \u001b[32m━━━━━━━━━━━━━━━━━━━━\u001b[0m\u001b[37m\u001b[0m \u001b[1m29s\u001b[0m 12ms/step - loss: 1.0310 - val_loss: 0.8326 - learning_rate: 2.5000e-04\n",
            "Epoch 23/100\n",
            "\u001b[1m2460/2460\u001b[0m \u001b[32m━━━━━━━━━━━━━━━━━━━━\u001b[0m\u001b[37m\u001b[0m \u001b[1m28s\u001b[0m 12ms/step - loss: 1.0304 - val_loss: 0.8335 - learning_rate: 2.5000e-04\n",
            "Epoch 24/100\n",
            "\u001b[1m2460/2460\u001b[0m \u001b[32m━━━━━━━━━━━━━━━━━━━━\u001b[0m\u001b[37m\u001b[0m \u001b[1m27s\u001b[0m 11ms/step - loss: 1.0280 - val_loss: 0.8343 - learning_rate: 1.2500e-04\n",
            "Epoch 25/100\n",
            "\u001b[1m2460/2460\u001b[0m \u001b[32m━━━━━━━━━━━━━━━━━━━━\u001b[0m\u001b[37m\u001b[0m \u001b[1m27s\u001b[0m 11ms/step - loss: 1.0267 - val_loss: 0.8352 - learning_rate: 1.2500e-04\n",
            "Epoch 26/100\n",
            "\u001b[1m2460/2460\u001b[0m \u001b[32m━━━━━━━━━━━━━━━━━━━━\u001b[0m\u001b[37m\u001b[0m \u001b[1m26s\u001b[0m 11ms/step - loss: 1.0259 - val_loss: 0.8365 - learning_rate: 1.2500e-04\n",
            "Epoch 27/100\n",
            "\u001b[1m2460/2460\u001b[0m \u001b[32m━━━━━━━━━━━━━━━━━━━━\u001b[0m\u001b[37m\u001b[0m \u001b[1m26s\u001b[0m 11ms/step - loss: 1.0256 - val_loss: 0.8385 - learning_rate: 1.2500e-04\n",
            "Epoch 28/100\n",
            "\u001b[1m2460/2460\u001b[0m \u001b[32m━━━━━━━━━━━━━━━━━━━━\u001b[0m\u001b[37m\u001b[0m \u001b[1m27s\u001b[0m 11ms/step - loss: 1.0237 - val_loss: 0.8411 - learning_rate: 1.2500e-04\n",
            "Epoch 29/100\n",
            "\u001b[1m2460/2460\u001b[0m \u001b[32m━━━━━━━━━━━━━━━━━━━━\u001b[0m\u001b[37m\u001b[0m \u001b[1m28s\u001b[0m 11ms/step - loss: 1.0236 - val_loss: 0.8429 - learning_rate: 6.2500e-05\n"
          ]
        },
        {
          "output_type": "display_data",
          "data": {
            "text/plain": [
              "<Figure size 600x400 with 1 Axes>"
            ],
            "image/png": "[encoded data removed]"
          },
          "metadata": {}
        }
      ],
      "source": [
        "\n",
        "# Build and train RNN\n",
        "tf.keras.backend.clear_session()\n",
        "\n",
        "model = keras.Sequential([\n",
        "    layers.Input(shape=(LOOKBACK_USED, n_features)),\n",
        "    layers.SimpleRNN(64, activation=\"tanh\"),\n",
        "    layers.Dropout(0.2),\n",
        "    layers.Dense(32, activation=\"relu\"),\n",
        "    layers.Dense(1)\n",
        "])\n",
        "model.compile(optimizer=keras.optimizers.Adam(1e-3), loss=\"mse\")\n",
        "model.summary()\n",
        "\n",
        "callbacks = [\n",
        "    keras.callbacks.EarlyStopping(monitor=\"val_loss\", patience=10, restore_best_weights=True),\n",
        "    keras.callbacks.ReduceLROnPlateau(monitor=\"val_loss\", factor=0.5, patience=5, min_lr=1e-6)\n",
        "]\n",
        "\n",
        "batch = max(1, min(128, len(Xw_tr)))\n",
        "hist = model.fit(\n",
        "    Xw_tr, yw_tr,\n",
        "    validation_data=(Xw_va, yw_va),\n",
        "    epochs=100,\n",
        "    batch_size=batch,\n",
        "    callbacks=callbacks,\n",
        "    verbose=1\n",
        ")\n",
        "\n",
        "plt.figure(figsize=(6,4))\n",
        "plt.plot(hist.history.get(\"loss\", []), label=\"loss\")\n",
        "plt.plot(hist.history.get(\"val_loss\", []), label=\"val_loss\")\n",
        "plt.title(\"Training vs Validation Loss\")\n",
        "plt.xlabel(\"Epoch\"); plt.ylabel(\"MSE\"); plt.legend(); plt.show()\n"
      ]
    },
    {
      "cell_type": "code",
      "source": [
        "# Plot Loss vs Epochs\n",
        "import matplotlib.pyplot as plt\n",
        "import pandas as pd\n",
        "\n",
        "h = pd.DataFrame(hist.history)\n",
        "\n",
        "plt.figure(figsize=(7,4))\n",
        "plt.plot(h[\"loss\"], label=\"Training Loss\")\n",
        "plt.plot(h[\"val_loss\"], label=\"Validation Loss\")\n",
        "plt.title(\"Loss vs Epochs\")\n",
        "plt.xlabel(\"Epoch\")\n",
        "plt.ylabel(\"Loss\")\n",
        "plt.legend()\n",
        "plt.show()\n",
        "\n",
        "# If you have accuracy in your model metrics\n",
        "if \"accuracy\" in h.columns:\n",
        "    plt.figure(figsize=(7,4))\n",
        "    plt.plot(h[\"accuracy\"], label=\"Training Accuracy\")\n",
        "    plt.plot(h[\"val_accuracy\"], label=\"Validation Accuracy\")\n",
        "    plt.title(\"Accuracy vs Epochs\")\n",
        "    plt.xlabel(\"Epoch\")\n",
        "    plt.ylabel(\"Accuracy\")\n",
        "    plt.legend()\n",
        "    plt.show()"
      ],
      "metadata": {
        "colab": {
          "base_uri": "https://localhost:8080/",
          "height": 410
        },
        "id": "cswgc2HKdqKL",
        "outputId": "a93e98d6-7538-42b2-f931-4b390c2b0b46"
      },
      "id": "cswgc2HKdqKL",
      "execution_count": 15,
      "outputs": [
        {
          "output_type": "display_data",
          "data": {
            "text/plain": [
              "<Figure size 700x400 with 1 Axes>"
            ],
            "image/png": "[encoded data removed]"
          },
          "metadata": {}
        }
      ]
    },
    {
      "cell_type": "code",
      "execution_count": 10,
      "id": "6a2c218f",
      "metadata": {
        "colab": {
          "base_uri": "https://localhost:8080/"
        },
        "id": "6a2c218f",
        "outputId": "139a7387-aa68-4043-b7ef-74d7c3b1680c"
      },
      "outputs": [
        {
          "output_type": "stream",
          "name": "stdout",
          "text": [
            "Validation MSE (scaled): 0.8293\n",
            "Baseline  MSE (scaled): 1.5784\n",
            "Test RMSE: 18.302\n",
            "Test MAE : 12.492\n",
            "Test R2  : -0.040\n"
          ]
        }
      ],
      "source": [
        "\n",
        "# Evaluate vs baseline in scaled units\n",
        "yhat_va = model.predict(Xw_va, verbose=0)\n",
        "mse_va = mean_squared_error(yw_va, yhat_va)\n",
        "print(f\"Validation MSE (scaled): {mse_va:.4f}\")\n",
        "print(f\"Baseline  MSE (scaled): {mse_base_va:.4f}\")\n",
        "\n",
        "# Test metrics in original units\n",
        "yhat_te_s = model.predict(Xw_te, verbose=0)\n",
        "yhat_te = y_scaler.inverse_transform(yhat_te_s)\n",
        "ytrue_te = y_scaler.inverse_transform(yw_te)\n",
        "\n",
        "rmse = float(np.sqrt(mean_squared_error(ytrue_te, yhat_te)))\n",
        "mae  = float(mean_absolute_error(ytrue_te, yhat_te))\n",
        "r2   = float(r2_score(ytrue_te, yhat_te))\n",
        "\n",
        "print(f\"Test RMSE: {rmse:.3f}\")\n",
        "print(f\"Test MAE : {mae:.3f}\")\n",
        "print(f\"Test R2  : {r2:.3f}\")\n"
      ]
    },
    {
      "cell_type": "code",
      "source": [
        "import numpy as np\n",
        "\n",
        "def recursive_forecast_with_target_feedback(model, x_scaler, y_scaler,\n",
        "                                            values, target_idx, lookback, steps=7):\n",
        "    \"\"\"\n",
        "    Multi-step recursive forecast:\n",
        "    - Build last window from the **scaled** full feature matrix (fit on train only).\n",
        "    - Predict scaled target, write it back into the target slot of the next row.\n",
        "    - Keep non-target features as the last observed values (simple assumption).\n",
        "    Returns predictions in original units.\n",
        "    \"\"\"\n",
        "    X_scaled_full = x_scaler.transform(values)\n",
        "    if len(X_scaled_full) < lookback:\n",
        "        raise ValueError(\"Not enough rows to build the last window.\")\n",
        "\n",
        "    window = X_scaled_full[-lookback:].astype(np.float32).copy()  # (lookback, F)\n",
        "    preds_scaled = []\n",
        "    for _ in range(int(steps)):\n",
        "        yhat_s = model.predict(window[np.newaxis, ...], verbose=0)[0, 0]\n",
        "        preds_scaled.append(yhat_s)\n",
        "        new_row = window[-1].copy()\n",
        "        new_row[target_idx] = yhat_s\n",
        "        window = np.vstack([window[1:], new_row])\n",
        "\n",
        "    preds_scaled = np.array(preds_scaled).reshape(-1, 1)\n",
        "    return y_scaler.inverse_transform(preds_scaled).ravel()\n",
        "\n",
        "# Next-day and 7-day\n",
        "next_day = recursive_forecast_with_target_feedback(\n",
        "    model, x_scaler, y_scaler, values, target_idx, LOOKBACK_USED, steps=1\n",
        ")[0]\n",
        "seven_day = recursive_forecast_with_target_feedback(\n",
        "    model, x_scaler, y_scaler, values, target_idx, LOOKBACK_USED, steps=7\n",
        ")\n",
        "\n",
        "import pandas as pd\n",
        "fc_df = pd.DataFrame({\n",
        "    \"horizon_day\": [1] + list(range(1, 8)),\n",
        "    \"forecast\": [next_day] + list(seven_day)\n",
        "}).drop_duplicates(subset=[\"horizon_day\"]).reset_index(drop=True)\n",
        "\n",
        "print(f\"Next-day forecast: {float(next_day):.3f}\")\n",
        "display(fc_df)\n"
      ],
      "metadata": {
        "colab": {
          "base_uri": "https://localhost:8080/",
          "height": 286
        },
        "id": "8J7aTCCe4NkU",
        "outputId": "32c30541-1562-4598-b622-931265461799"
      },
      "id": "8J7aTCCe4NkU",
      "execution_count": 11,
      "outputs": [
        {
          "output_type": "stream",
          "name": "stdout",
          "text": [
            "Next-day forecast: 29.126\n"
          ]
        },
        {
          "output_type": "display_data",
          "data": {
            "text/plain": [
              "   horizon_day   forecast\n",
              "0            1  29.125589\n",
              "1            2  29.336874\n",
              "2            3  28.542915\n",
              "3            4  28.457737\n",
              "4            5  28.799276\n",
              "5            6  28.873926\n",
              "6            7  28.366077"
            ],
            "text/html": [
              "\n",
              "  <div id=\"df-88b046ac-b984-4c30-bbca-85393cad2a8b\" class=\"colab-df-container\">\n",
              "    <div>\n",
              "<style scoped>\n",
              "    .dataframe tbody tr th:only-of-type {\n",
              "        vertical-align: middle;\n",
              "    }\n",
              "\n",
              "    .dataframe tbody tr th {\n",
              "        vertical-align: top;\n",
              "    }\n",
              "\n",
              "    .dataframe thead th {\n",
              "        text-align: right;\n",
              "    }\n",
              "</style>\n",
              "<table border=\"1\" class=\"dataframe\">\n",
              "  <thead>\n",
              "    <tr style=\"text-align: right;\">\n",
              "      <th></th>\n",
              "      <th>horizon_day</th>\n",
              "      <th>forecast</th>\n",
              "    </tr>\n",
              "  </thead>\n",
              "  <tbody>\n",
              "    <tr>\n",
              "      <th>0</th>\n",
              "      <td>1</td>\n",
              "      <td>29.125589</td>\n",
              "    </tr>\n",
              "    <tr>\n",
              "      <th>1</th>\n",
              "      <td>2</td>\n",
              "      <td>29.336874</td>\n",
              "    </tr>\n",
              "    <tr>\n",
              "      <th>2</th>\n",
              "      <td>3</td>\n",
              "      <td>28.542915</td>\n",
              "    </tr>\n",
              "    <tr>\n",
              "      <th>3</th>\n",
              "      <td>4</td>\n",
              "      <td>28.457737</td>\n",
              "    </tr>\n",
              "    <tr>\n",
              "      <th>4</th>\n",
              "      <td>5</td>\n",
              "      <td>28.799276</td>\n",
              "    </tr>\n",
              "    <tr>\n",
              "      <th>5</th>\n",
              "      <td>6</td>\n",
              "      <td>28.873926</td>\n",
              "    </tr>\n",
              "    <tr>\n",
              "      <th>6</th>\n",
              "      <td>7</td>\n",
              "      <td>28.366077</td>\n",
              "    </tr>\n",
              "  </tbody>\n",
              "</table>\n",
              "</div>\n",
              "    <div class=\"colab-df-buttons\">\n",
              "\n",
              "  <div class=\"colab-df-container\">\n",
              "    <button class=\"colab-df-convert\" onclick=\"convertToInteractive('df-88b046ac-b984-4c30-bbca-85393cad2a8b')\"\n",
              "            title=\"Convert this dataframe to an interactive table.\"\n",
              "            style=\"display:none;\">\n",
              "\n",
              "  <svg xmlns=\"http://www.w3.org/2000/svg\" height=\"24px\" viewBox=\"0 -960 960 960\">\n",
              "    <path d=\"M120-120v-720h720v720H120Zm60-500h600v-160H180v160Zm220 220h160v-160H400v160Zm0 220h160v-160H400v160ZM180-400h160v-160H180v160Zm440 0h160v-160H620v160ZM180-180h160v-160H180v160Zm440 0h160v-160H620v160Z\"/>\n",
              "  </svg>\n",
              "    </button>\n",
              "\n",
              "  <style>\n",
              "    .colab-df-container {\n",
              "      display:flex;\n",
              "      gap: 12px;\n",
              "    }\n",
              "\n",
              "    .colab-df-convert {\n",
              "      background-color: #E8F0FE;\n",
              "      border: none;\n",
              "      border-radius: 50%;\n",
              "      cursor: pointer;\n",
              "      display: none;\n",
              "      fill: #1967D2;\n",
              "      height: 32px;\n",
              "      padding: 0 0 0 0;\n",
              "      width: 32px;\n",
              "    }\n",
              "\n",
              "    .colab-df-convert:hover {\n",
              "      background-color: #E2EBFA;\n",
              "      box-shadow: 0px 1px 2px rgba(60, 64, 67, 0.3), 0px 1px 3px 1px rgba(60, 64, 67, 0.15);\n",
              "      fill: #174EA6;\n",
              "    }\n",
              "\n",
              "    .colab-df-buttons div {\n",
              "      margin-bottom: 4px;\n",
              "    }\n",
              "\n",
              "    [theme=dark] .colab-df-convert {\n",
              "      background-color: #3B4455;\n",
              "      fill: #D2E3FC;\n",
              "    }\n",
              "\n",
              "    [theme=dark] .colab-df-convert:hover {\n",
              "      background-color: #434B5C;\n",
              "      box-shadow: 0px 1px 3px 1px rgba(0, 0, 0, 0.15);\n",
              "      filter: drop-shadow(0px 1px 2px rgba(0, 0, 0, 0.3));\n",
              "      fill: #FFFFFF;\n",
              "    }\n",
              "  </style>\n",
              "\n",
              "    <script>\n",
              "      const buttonEl =\n",
              "        document.querySelector('#df-88b046ac-b984-4c30-bbca-85393cad2a8b button.colab-df-convert');\n",
              "      buttonEl.style.display =\n",
              "        google.colab.kernel.accessAllowed ? 'block' : 'none';\n",
              "\n",
              "      async function convertToInteractive(key) {\n",
              "        const element = document.querySelector('#df-88b046ac-b984-4c30-bbca-85393cad2a8b');\n",
              "        const dataTable =\n",
              "          await google.colab.kernel.invokeFunction('convertToInteractive',\n",
              "                                                    [key], {});\n",
              "        if (!dataTable) return;\n",
              "\n",
              "        const docLinkHtml = 'Like what you see? Visit the ' +\n",
              "          '<a target=\"_blank\" href=https://colab.research.google.com/notebooks/data_table.ipynb>data table notebook</a>'\n",
              "          + ' to learn more about interactive tables.';\n",
              "        element.innerHTML = '';\n",
              "        dataTable['output_type'] = 'display_data';\n",
              "        await google.colab.output.renderOutput(dataTable, element);\n",
              "        const docLink = document.createElement('div');\n",
              "        docLink.innerHTML = docLinkHtml;\n",
              "        element.appendChild(docLink);\n",
              "      }\n",
              "    </script>\n",
              "  </div>\n",
              "\n",
              "\n",
              "    <div id=\"df-b9af59ab-5397-467e-a379-469fc639f3c0\">\n",
              "      <button class=\"colab-df-quickchart\" onclick=\"quickchart('df-b9af59ab-5397-467e-a379-469fc639f3c0')\"\n",
              "                title=\"Suggest charts\"\n",
              "                style=\"display:none;\">\n",
              "\n",
              "<svg xmlns=\"http://www.w3.org/2000/svg\" height=\"24px\"viewBox=\"0 0 24 24\"\n",
              "     width=\"24px\">\n",
              "    <g>\n",
              "        <path d=\"M19 3H5c-1.1 0-2 .9-2 2v14c0 1.1.9 2 2 2h14c1.1 0 2-.9 2-2V5c0-1.1-.9-2-2-2zM9 17H7v-7h2v7zm4 0h-2V7h2v10zm4 0h-2v-4h2v4z\"/>\n",
              "    </g>\n",
              "</svg>\n",
              "      </button>\n",
              "\n",
              "<style>\n",
              "  .colab-df-quickchart {\n",
              "      --bg-color: #E8F0FE;\n",
              "      --fill-color: #1967D2;\n",
              "      --hover-bg-color: #E2EBFA;\n",
              "      --hover-fill-color: #174EA6;\n",
              "      --disabled-fill-color: #AAA;\n",
              "      --disabled-bg-color: #DDD;\n",
              "  }\n",
              "\n",
              "  [theme=dark] .colab-df-quickchart {\n",
              "      --bg-color: #3B4455;\n",
              "      --fill-color: #D2E3FC;\n",
              "      --hover-bg-color: #434B5C;\n",
              "      --hover-fill-color: #FFFFFF;\n",
              "      --disabled-bg-color: #3B4455;\n",
              "      --disabled-fill-color: #666;\n",
              "  }\n",
              "\n",
              "  .colab-df-quickchart {\n",
              "    background-color: var(--bg-color);\n",
              "    border: none;\n",
              "    border-radius: 50%;\n",
              "    cursor: pointer;\n",
              "    display: none;\n",
              "    fill: var(--fill-color);\n",
              "    height: 32px;\n",
              "    padding: 0;\n",
              "    width: 32px;\n",
              "  }\n",
              "\n",
              "  .colab-df-quickchart:hover {\n",
              "    background-color: var(--hover-bg-color);\n",
              "    box-shadow: 0 1px 2px rgba(60, 64, 67, 0.3), 0 1px 3px 1px rgba(60, 64, 67, 0.15);\n",
              "    fill: var(--button-hover-fill-color);\n",
              "  }\n",
              "\n",
              "  .colab-df-quickchart-complete:disabled,\n",
              "  .colab-df-quickchart-complete:disabled:hover {\n",
              "    background-color: var(--disabled-bg-color);\n",
              "    fill: var(--disabled-fill-color);\n",
              "    box-shadow: none;\n",
              "  }\n",
              "\n",
              "  .colab-df-spinner {\n",
              "    border: 2px solid var(--fill-color);\n",
              "    border-color: transparent;\n",
              "    border-bottom-color: var(--fill-color);\n",
              "    animation:\n",
              "      spin 1s steps(1) infinite;\n",
              "  }\n",
              "\n",
              "  @keyframes spin {\n",
              "    0% {\n",
              "      border-color: transparent;\n",
              "      border-bottom-color: var(--fill-color);\n",
              "      border-left-color: var(--fill-color);\n",
              "    }\n",
              "    20% {\n",
              "      border-color: transparent;\n",
              "      border-left-color: var(--fill-color);\n",
              "      border-top-color: var(--fill-color);\n",
              "    }\n",
              "    30% {\n",
              "      border-color: transparent;\n",
              "      border-left-color: var(--fill-color);\n",
              "      border-top-color: var(--fill-color);\n",
              "      border-right-color: var(--fill-color);\n",
              "    }\n",
              "    40% {\n",
              "      border-color: transparent;\n",
              "      border-right-color: var(--fill-color);\n",
              "      border-top-color: var(--fill-color);\n",
              "    }\n",
              "    60% {\n",
              "      border-color: transparent;\n",
              "      border-right-color: var(--fill-color);\n",
              "    }\n",
              "    80% {\n",
              "      border-color: transparent;\n",
              "      border-right-color: var(--fill-color);\n",
              "      border-bottom-color: var(--fill-color);\n",
              "    }\n",
              "    90% {\n",
              "      border-color: transparent;\n",
              "      border-bottom-color: var(--fill-color);\n",
              "    }\n",
              "  }\n",
              "</style>\n",
              "\n",
              "      <script>\n",
              "        async function quickchart(key) {\n",
              "          const quickchartButtonEl =\n",
              "            document.querySelector('#' + key + ' button');\n",
              "          quickchartButtonEl.disabled = true;  // To prevent multiple clicks.\n",
              "          quickchartButtonEl.classList.add('colab-df-spinner');\n",
              "          try {\n",
              "            const charts = await google.colab.kernel.invokeFunction(\n",
              "                'suggestCharts', [key], {});\n",
              "          } catch (error) {\n",
              "            console.error('Error during call to suggestCharts:', error);\n",
              "          }\n",
              "          quickchartButtonEl.classList.remove('colab-df-spinner');\n",
              "          quickchartButtonEl.classList.add('colab-df-quickchart-complete');\n",
              "        }\n",
              "        (() => {\n",
              "          let quickchartButtonEl =\n",
              "            document.querySelector('#df-b9af59ab-5397-467e-a379-469fc639f3c0 button');\n",
              "          quickchartButtonEl.style.display =\n",
              "            google.colab.kernel.accessAllowed ? 'block' : 'none';\n",
              "        })();\n",
              "      </script>\n",
              "    </div>\n",
              "\n",
              "  <div id=\"id_221f3391-f49d-4752-8228-9d72cce5dfb3\">\n",
              "    <style>\n",
              "      .colab-df-generate {\n",
              "        background-color: #E8F0FE;\n",
              "        border: none;\n",
              "        border-radius: 50%;\n",
              "        cursor: pointer;\n",
              "        display: none;\n",
              "        fill: #1967D2;\n",
              "        height: 32px;\n",
              "        padding: 0 0 0 0;\n",
              "        width: 32px;\n",
              "      }\n",
              "\n",
              "      .colab-df-generate:hover {\n",
              "        background-color: #E2EBFA;\n",
              "        box-shadow: 0px 1px 2px rgba(60, 64, 67, 0.3), 0px 1px 3px 1px rgba(60, 64, 67, 0.15);\n",
              "        fill: #174EA6;\n",
              "      }\n",
              "\n",
              "      [theme=dark] .colab-df-generate {\n",
              "        background-color: #3B4455;\n",
              "        fill: #D2E3FC;\n",
              "      }\n",
              "\n",
              "      [theme=dark] .colab-df-generate:hover {\n",
              "        background-color: #434B5C;\n",
              "        box-shadow: 0px 1px 3px 1px rgba(0, 0, 0, 0.15);\n",
              "        filter: drop-shadow(0px 1px 2px rgba(0, 0, 0, 0.3));\n",
              "        fill: #FFFFFF;\n",
              "      }\n",
              "    </style>\n",
              "    <button class=\"colab-df-generate\" onclick=\"generateWithVariable('fc_df')\"\n",
              "            title=\"Generate code using this dataframe.\"\n",
              "            style=\"display:none;\">\n",
              "\n",
              "  <svg xmlns=\"http://www.w3.org/2000/svg\" height=\"24px\"viewBox=\"0 0 24 24\"\n",
              "       width=\"24px\">\n",
              "    <path d=\"M7,19H8.4L18.45,9,17,7.55,7,17.6ZM5,21V16.75L18.45,3.32a2,2,0,0,1,2.83,0l1.4,1.43a1.91,1.91,0,0,1,.58,1.4,1.91,1.91,0,0,1-.58,1.4L9.25,21ZM18.45,9,17,7.55Zm-12,3A5.31,5.31,0,0,0,4.9,8.1,5.31,5.31,0,0,0,1,6.5,5.31,5.31,0,0,0,4.9,4.9,5.31,5.31,0,0,0,6.5,1,5.31,5.31,0,0,0,8.1,4.9,5.31,5.31,0,0,0,12,6.5,5.46,5.46,0,0,0,6.5,12Z\"/>\n",
              "  </svg>\n",
              "    </button>\n",
              "    <script>\n",
              "      (() => {\n",
              "      const buttonEl =\n",
              "        document.querySelector('#id_221f3391-f49d-4752-8228-9d72cce5dfb3 button.colab-df-generate');\n",
              "      buttonEl.style.display =\n",
              "        google.colab.kernel.accessAllowed ? 'block' : 'none';\n",
              "\n",
              "      buttonEl.onclick = () => {\n",
              "        google.colab.notebook.generateWithVariable('fc_df');\n",
              "      }\n",
              "      })();\n",
              "    </script>\n",
              "  </div>\n",
              "\n",
              "    </div>\n",
              "  </div>\n"
            ],
            "application/vnd.google.colaboratory.intrinsic+json": {
              "type": "dataframe",
              "variable_name": "fc_df",
              "summary": "{\n  \"name\": \"fc_df\",\n  \"rows\": 7,\n  \"fields\": [\n    {\n      \"column\": \"horizon_day\",\n      \"properties\": {\n        \"dtype\": \"number\",\n        \"std\": 2,\n        \"min\": 1,\n        \"max\": 7,\n        \"num_unique_values\": 7,\n        \"samples\": [\n          1,\n          2,\n          6\n        ],\n        \"semantic_type\": \"\",\n        \"description\": \"\"\n      }\n    },\n    {\n      \"column\": \"forecast\",\n      \"properties\": {\n        \"dtype\": \"float32\",\n        \"num_unique_values\": 7,\n        \"samples\": [\n          29.12558937072754,\n          29.33687400817871,\n          28.873926162719727\n        ],\n        \"semantic_type\": \"\",\n        \"description\": \"\"\n      }\n    }\n  ]\n}"
            }
          },
          "metadata": {}
        }
      ]
    },
    {
      "cell_type": "code",
      "source": [
        "from sklearn.metrics import mean_squared_error, mean_absolute_error, r2_score\n",
        "\n",
        "# Predict on test windows and invert scaling\n",
        "yhat_te_s = model.predict(Xw_te, verbose=0)\n",
        "yhat_te   = y_scaler.inverse_transform(yhat_te_s)\n",
        "ytrue_te  = y_scaler.inverse_transform(yw_te)\n",
        "\n",
        "rmse = float(np.sqrt(mean_squared_error(ytrue_te, yhat_te)))\n",
        "mae  = float(mean_absolute_error(ytrue_te, yhat_te))\n",
        "eps  = 1e-8\n",
        "mape = float(np.mean(np.abs((ytrue_te - yhat_te) / np.maximum(np.abs(ytrue_te), eps))) * 100)\n",
        "r2   = float(r2_score(ytrue_te, yhat_te))\n",
        "\n",
        "pd.DataFrame({\"RMSE\":[rmse], \"MAE\":[mae], \"MAPE%\":[mape], \"R2\":[r2]}).round(3)"
      ],
      "metadata": {
        "colab": {
          "base_uri": "https://localhost:8080/",
          "height": 81
        },
        "id": "T8bIbsmW4SQ8",
        "outputId": "1722fa4f-5f55-4975-f99d-619ef0e6f020"
      },
      "id": "T8bIbsmW4SQ8",
      "execution_count": 12,
      "outputs": [
        {
          "output_type": "execute_result",
          "data": {
            "text/plain": [
              "     RMSE     MAE      MAPE%    R2\n",
              "0  18.302  12.492  3488338.0 -0.04"
            ],
            "text/html": [
              "\n",
              "  <div id=\"df-3b9a63ff-73bf-418b-80c4-e7fe45fe2646\" class=\"colab-df-container\">\n",
              "    <div>\n",
              "<style scoped>\n",
              "    .dataframe tbody tr th:only-of-type {\n",
              "        vertical-align: middle;\n",
              "    }\n",
              "\n",
              "    .dataframe tbody tr th {\n",
              "        vertical-align: top;\n",
              "    }\n",
              "\n",
              "    .dataframe thead th {\n",
              "        text-align: right;\n",
              "    }\n",
              "</style>\n",
              "<table border=\"1\" class=\"dataframe\">\n",
              "  <thead>\n",
              "    <tr style=\"text-align: right;\">\n",
              "      <th></th>\n",
              "      <th>RMSE</th>\n",
              "      <th>MAE</th>\n",
              "      <th>MAPE%</th>\n",
              "      <th>R2</th>\n",
              "    </tr>\n",
              "  </thead>\n",
              "  <tbody>\n",
              "    <tr>\n",
              "      <th>0</th>\n",
              "      <td>18.302</td>\n",
              "      <td>12.492</td>\n",
              "      <td>3488338.0</td>\n",
              "      <td>-0.04</td>\n",
              "    </tr>\n",
              "  </tbody>\n",
              "</table>\n",
              "</div>\n",
              "    <div class=\"colab-df-buttons\">\n",
              "\n",
              "  <div class=\"colab-df-container\">\n",
              "    <button class=\"colab-df-convert\" onclick=\"convertToInteractive('df-3b9a63ff-73bf-418b-80c4-e7fe45fe2646')\"\n",
              "            title=\"Convert this dataframe to an interactive table.\"\n",
              "            style=\"display:none;\">\n",
              "\n",
              "  <svg xmlns=\"http://www.w3.org/2000/svg\" height=\"24px\" viewBox=\"0 -960 960 960\">\n",
              "    <path d=\"M120-120v-720h720v720H120Zm60-500h600v-160H180v160Zm220 220h160v-160H400v160Zm0 220h160v-160H400v160ZM180-400h160v-160H180v160Zm440 0h160v-160H620v160ZM180-180h160v-160H180v160Zm440 0h160v-160H620v160Z\"/>\n",
              "  </svg>\n",
              "    </button>\n",
              "\n",
              "  <style>\n",
              "    .colab-df-container {\n",
              "      display:flex;\n",
              "      gap: 12px;\n",
              "    }\n",
              "\n",
              "    .colab-df-convert {\n",
              "      background-color: #E8F0FE;\n",
              "      border: none;\n",
              "      border-radius: 50%;\n",
              "      cursor: pointer;\n",
              "      display: none;\n",
              "      fill: #1967D2;\n",
              "      height: 32px;\n",
              "      padding: 0 0 0 0;\n",
              "      width: 32px;\n",
              "    }\n",
              "\n",
              "    .colab-df-convert:hover {\n",
              "      background-color: #E2EBFA;\n",
              "      box-shadow: 0px 1px 2px rgba(60, 64, 67, 0.3), 0px 1px 3px 1px rgba(60, 64, 67, 0.15);\n",
              "      fill: #174EA6;\n",
              "    }\n",
              "\n",
              "    .colab-df-buttons div {\n",
              "      margin-bottom: 4px;\n",
              "    }\n",
              "\n",
              "    [theme=dark] .colab-df-convert {\n",
              "      background-color: #3B4455;\n",
              "      fill: #D2E3FC;\n",
              "    }\n",
              "\n",
              "    [theme=dark] .colab-df-convert:hover {\n",
              "      background-color: #434B5C;\n",
              "      box-shadow: 0px 1px 3px 1px rgba(0, 0, 0, 0.15);\n",
              "      filter: drop-shadow(0px 1px 2px rgba(0, 0, 0, 0.3));\n",
              "      fill: #FFFFFF;\n",
              "    }\n",
              "  </style>\n",
              "\n",
              "    <script>\n",
              "      const buttonEl =\n",
              "        document.querySelector('#df-3b9a63ff-73bf-418b-80c4-e7fe45fe2646 button.colab-df-convert');\n",
              "      buttonEl.style.display =\n",
              "        google.colab.kernel.accessAllowed ? 'block' : 'none';\n",
              "\n",
              "      async function convertToInteractive(key) {\n",
              "        const element = document.querySelector('#df-3b9a63ff-73bf-418b-80c4-e7fe45fe2646');\n",
              "        const dataTable =\n",
              "          await google.colab.kernel.invokeFunction('convertToInteractive',\n",
              "                                                    [key], {});\n",
              "        if (!dataTable) return;\n",
              "\n",
              "        const docLinkHtml = 'Like what you see? Visit the ' +\n",
              "          '<a target=\"_blank\" href=https://colab.research.google.com/notebooks/data_table.ipynb>data table notebook</a>'\n",
              "          + ' to learn more about interactive tables.';\n",
              "        element.innerHTML = '';\n",
              "        dataTable['output_type'] = 'display_data';\n",
              "        await google.colab.output.renderOutput(dataTable, element);\n",
              "        const docLink = document.createElement('div');\n",
              "        docLink.innerHTML = docLinkHtml;\n",
              "        element.appendChild(docLink);\n",
              "      }\n",
              "    </script>\n",
              "  </div>\n",
              "\n",
              "\n",
              "    </div>\n",
              "  </div>\n"
            ],
            "application/vnd.google.colaboratory.intrinsic+json": {
              "type": "dataframe",
              "summary": "{\n  \"name\": \"pd\",\n  \"rows\": 1,\n  \"fields\": [\n    {\n      \"column\": \"RMSE\",\n      \"properties\": {\n        \"dtype\": \"number\",\n        \"std\": null,\n        \"min\": 18.302,\n        \"max\": 18.302,\n        \"num_unique_values\": 1,\n        \"samples\": [\n          18.302\n        ],\n        \"semantic_type\": \"\",\n        \"description\": \"\"\n      }\n    },\n    {\n      \"column\": \"MAE\",\n      \"properties\": {\n        \"dtype\": \"number\",\n        \"std\": null,\n        \"min\": 12.492,\n        \"max\": 12.492,\n        \"num_unique_values\": 1,\n        \"samples\": [\n          12.492\n        ],\n        \"semantic_type\": \"\",\n        \"description\": \"\"\n      }\n    },\n    {\n      \"column\": \"MAPE%\",\n      \"properties\": {\n        \"dtype\": \"number\",\n        \"std\": null,\n        \"min\": 3488338.0,\n        \"max\": 3488338.0,\n        \"num_unique_values\": 1,\n        \"samples\": [\n          3488338.0\n        ],\n        \"semantic_type\": \"\",\n        \"description\": \"\"\n      }\n    },\n    {\n      \"column\": \"R2\",\n      \"properties\": {\n        \"dtype\": \"number\",\n        \"std\": null,\n        \"min\": -0.04,\n        \"max\": -0.04,\n        \"num_unique_values\": 1,\n        \"samples\": [\n          -0.04\n        ],\n        \"semantic_type\": \"\",\n        \"description\": \"\"\n      }\n    }\n  ]\n}"
            }
          },
          "metadata": {},
          "execution_count": 12
        }
      ]
    },
    {
      "cell_type": "code",
      "source": [
        "import matplotlib.pyplot as plt\n",
        "import numpy as np\n",
        "\n",
        "# 1) Test series: true vs predicted\n",
        "plt.figure(figsize=(8, 4))\n",
        "plt.plot(ytrue_te.flatten(), label=\"True\")\n",
        "plt.plot(yhat_te.flatten(), label=\"Predicted\")\n",
        "plt.title(\"Test set: True vs Predicted\")\n",
        "plt.xlabel(\"Window index\"); plt.ylabel(\"Target (original units)\")\n",
        "plt.legend(); plt.tight_layout(); plt.show()\n",
        "\n",
        "# 2) Parity plot\n",
        "plt.figure(figsize=(4, 4))\n",
        "plt.scatter(ytrue_te, yhat_te, s=8, alpha=0.6)\n",
        "mn = float(min(ytrue_te.min(), yhat_te.min()))\n",
        "mx = float(max(ytrue_te.max(), yhat_te.max()))\n",
        "plt.plot([mn, mx], [mn, mx])\n",
        "plt.title(\"Parity plot\")\n",
        "plt.xlabel(\"True\"); plt.ylabel(\"Predicted\")\n",
        "plt.tight_layout(); plt.show()\n",
        "\n",
        "# 3) Residuals over test windows\n",
        "res = (ytrue_te - yhat_te).flatten()\n",
        "plt.figure(figsize=(8, 3.5))\n",
        "plt.plot(res)\n",
        "plt.title(\"Residuals (True - Predicted)\")\n",
        "plt.xlabel(\"Window index\"); plt.ylabel(\"Residual\")\n",
        "plt.tight_layout(); plt.show()"
      ],
      "metadata": {
        "colab": {
          "base_uri": "https://localhost:8080/",
          "height": 1000
        },
        "id": "KROw2BNl4V18",
        "outputId": "4eb4f128-432a-402e-c076-f9c13ff4d39a"
      },
      "id": "KROw2BNl4V18",
      "execution_count": 13,
      "outputs": [
        {
          "output_type": "display_data",
          "data": {
            "text/plain": [
              "<Figure size 800x400 with 1 Axes>"
            ],
            "image/png": "[encoded data removed]"
          },
          "metadata": {}
        },
        {
          "output_type": "display_data",
          "data": {
            "text/plain": [
              "<Figure size 400x400 with 1 Axes>"
            ],
            "image/png": "[encoded data removed]"
          },
          "metadata": {}
        },
        {
          "output_type": "display_data",
          "data": {
            "text/plain": [
              "<Figure size 800x350 with 1 Axes>"
            ],
            "image/png": "[encoded data removed]"
          },
          "metadata": {}
        }
      ]
    },
    {
      "cell_type": "code",
      "execution_count": 14,
      "id": "58d22509",
      "metadata": {
        "colab": {
          "base_uri": "https://localhost:8080/"
        },
        "id": "58d22509",
        "outputId": "3206166f-cd51-492a-d520-8a9087318549"
      },
      "outputs": [
        {
          "output_type": "stream",
          "name": "stdout",
          "text": [
            "Saved artifacts to: /mnt/data/airquality_rnn_artifacts_v2\n"
          ]
        }
      ],
      "source": [
        "\n",
        "# Save artifacts\n",
        "ART_DIR = \"/mnt/data/airquality_rnn_artifacts_v2\"\n",
        "os.makedirs(ART_DIR, exist_ok=True)\n",
        "model_path = os.path.join(ART_DIR, \"rnn_model_v2.keras\")\n",
        "xscaler_path = os.path.join(ART_DIR, \"x_scaler.pkl\")\n",
        "yscaler_path = os.path.join(ART_DIR, \"y_scaler.pkl\")\n",
        "meta_path = os.path.join(ART_DIR, \"meta.json\")\n",
        "\n",
        "model.save(model_path)\n",
        "with open(xscaler_path, \"wb\") as f:\n",
        "    pickle.dump(x_scaler, f)\n",
        "with open(yscaler_path, \"wb\") as f:\n",
        "    pickle.dump(y_scaler, f)\n",
        "with open(meta_path, \"w\") as f:\n",
        "    json.dump({\n",
        "        \"TARGET\": TARGET,\n",
        "        \"LOOKBACK_USED\": int(LOOKBACK_USED),\n",
        "        \"HORIZON\": int(HORIZON),\n",
        "        \"n_features\": int(n_features),\n",
        "        \"target_idx\": int(cols.index(TARGET))\n",
        "    }, f, indent=2)\n",
        "\n",
        "print(\"Saved artifacts to:\", ART_DIR)\n"
      ]
    }
  ],
  "metadata": {
    "colab": {
      "provenance": [],
      "include_colab_link": true
    },
    "language_info": {
      "name": "python"
    },
    "kernelspec": {
      "name": "python3",
      "display_name": "Python 3"
    }
  },
  "nbformat": 4,
  "nbformat_minor": 5
}