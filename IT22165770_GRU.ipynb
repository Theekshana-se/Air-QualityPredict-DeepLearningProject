{
  "cells": [
    {
      "cell_type": "markdown",
      "metadata": {
        "id": "view-in-github",
        "colab_type": "text"
      },
      "source": [
        "<a href=\"https://colab.research.google.com/github/Theekshana-se/Air-QualityPredict-DeepLearningProject/blob/main/IT21252990_GRU2.ipynb\" target=\"_parent\"><img src=\"https://colab.research.google.com/assets/colab-badge.svg\" alt=\"Open In Colab\"/></a>"
      ]
    },
    {
      "cell_type": "markdown",
      "source": [],
      "metadata": {
        "id": "3fiOOTLqaGnD"
      }
    },
    {
      "cell_type": "code",
      "source": [
        "import pandas as pd\n",
        "import numpy as np\n",
        "from sklearn.preprocessing import LabelEncoder, MinMaxScaler\n",
        "from keras.models import Sequential\n",
        "from keras.layers import GRU, Dense, Dropout"
      ],
      "metadata": {
        "id": "5MXEwRU4aIbO"
      },
      "execution_count": 1,
      "outputs": []
    },
    {
      "cell_type": "code",
      "source": [
        "from google.colab import drive\n",
        "drive.mount('/content/drive')"
      ],
      "metadata": {
        "colab": {
          "base_uri": "https://localhost:8080/"
        },
        "id": "3_dFE1e9ab0v",
        "outputId": "b9e83e1f-eb60-41c3-b35a-476751367207"
      },
      "execution_count": 2,
      "outputs": [
        {
          "output_type": "stream",
          "name": "stdout",
          "text": [
            "Drive already mounted at /content/drive; to attempt to forcibly remount, call drive.mount(\"/content/drive\", force_remount=True).\n"
          ]
        }
      ]
    },
    {
      "cell_type": "code",
      "source": [
        "# Load your cleaned dataset\n",
        "df = pd.read_csv(\n",
        "    '/content/drive/MyDrive/Colab Notebooks/Deep-Learning-Project-main/DataSet/airData.csv',\n",
        "    encoding='ISO-8859-1'\n",
        ")\n",
        "\n",
        "# Select useful columns only\n",
        "df = df[['sampling_date', 'state', 'location', 'so2', 'no2', 'rspm']]\n",
        "df['sampling_date'] = pd.to_datetime(df['sampling_date'], errors='coerce')\n",
        "\n",
        "# Drop rows missing key values\n",
        "df = df.dropna(subset=['sampling_date', 'location', 'so2', 'no2', 'rspm'])\n",
        "\n",
        "# Sort for time-series consistency\n",
        "df = df.sort_values(['location', 'sampling_date'])\n",
        "df.reset_index(drop=True, inplace=True)"
      ],
      "metadata": {
        "colab": {
          "base_uri": "https://localhost:8080/"
        },
        "id": "-flmEEy7aM0n",
        "outputId": "2d14cae5-4a21-4d1a-cf70-a5e12afba262"
      },
      "execution_count": 3,
      "outputs": [
        {
          "output_type": "stream",
          "name": "stderr",
          "text": [
            "/tmp/ipython-input-3467568969.py:2: DtypeWarning: Columns (0) have mixed types. Specify dtype option on import or set low_memory=False.\n",
            "  df = pd.read_csv(\n",
            "/tmp/ipython-input-3467568969.py:9: UserWarning: Could not infer format, so each element will be parsed individually, falling back to `dateutil`. To ensure parsing is consistent and as-expected, please specify a format.\n",
            "  df['sampling_date'] = pd.to_datetime(df['sampling_date'], errors='coerce')\n"
          ]
        }
      ]
    },
    {
      "cell_type": "code",
      "source": [],
      "metadata": {
        "id": "B5L5BqwRvQFY"
      },
      "execution_count": 3,
      "outputs": []
    },
    {
      "cell_type": "code",
      "source": [
        "le = LabelEncoder()\n",
        "df['city_id'] = le.fit_transform(df['location'])\n",
        "print(df[['location', 'city_id']].head(10))\n",
        "\n"
      ],
      "metadata": {
        "colab": {
          "base_uri": "https://localhost:8080/"
        },
        "id": "irjplGnxariS",
        "outputId": "a2030d99-9ae9-4ac7-a9c2-94b7d82f000d"
      },
      "execution_count": 4,
      "outputs": [
        {
          "output_type": "stream",
          "name": "stdout",
          "text": [
            "     location  city_id\n",
            "0  ANKLESHWAR        0\n",
            "1  ANKLESHWAR        0\n",
            "2  ANKLESHWAR        0\n",
            "3  ANKLESHWAR        0\n",
            "4  ANKLESHWAR        0\n",
            "5  ANKLESHWAR        0\n",
            "6  ANKLESHWAR        0\n",
            "7  ANKLESHWAR        0\n",
            "8  ANKLESHWAR        0\n",
            "9  ANKLESHWAR        0\n"
          ]
        }
      ]
    },
    {
      "cell_type": "code",
      "source": [
        "scaler = MinMaxScaler()\n",
        "df[['so2', 'no2', 'rspm']] = scaler.fit_transform(df[['so2', 'no2', 'rspm']])\n"
      ],
      "metadata": {
        "id": "uzAmLUEXaw7N"
      },
      "execution_count": 5,
      "outputs": []
    },
    {
      "cell_type": "code",
      "source": [
        "def create_sequences_for_all_cities(data, time_steps=10):\n",
        "    X_all, y_all = [], []\n",
        "    grouped = data.groupby('city_id')\n",
        "\n",
        "    for city_id, group in grouped:\n",
        "        group = group.sort_values('sampling_date')\n",
        "        features = group[['so2', 'no2', 'rspm', 'city_id']].values\n",
        "        for i in range(len(features) - time_steps):\n",
        "            X_all.append(features[i:i+time_steps])\n",
        "            y_all.append(features[i+time_steps, 2])  # target = RSPM\n",
        "    return np.array(X_all), np.array(y_all)\n",
        "\n",
        "X, y = create_sequences_for_all_cities(df, 10)\n",
        "\n",
        "print(\"Shape of X:\", X.shape)\n",
        "print(\"Shape of y:\", y.shape)\n"
      ],
      "metadata": {
        "colab": {
          "base_uri": "https://localhost:8080/"
        },
        "id": "PJMykblpaziA",
        "outputId": "45425fd0-f999-4b16-c6f4-ed280d997046"
      },
      "execution_count": 6,
      "outputs": [
        {
          "output_type": "stream",
          "name": "stdout",
          "text": [
            "Shape of X: (362191, 10, 4)\n",
            "Shape of y: (362191,)\n"
          ]
        }
      ]
    },
    {
      "cell_type": "code",
      "source": [
        "split = int(0.8 * len(X))\n",
        "X_train, X_test = X[:split], X[split:]\n",
        "y_train, y_test = y[:split], y[split:]\n",
        "\n",
        "print(\"Train:\", X_train.shape, \" Test:\", X_test.shape)\n"
      ],
      "metadata": {
        "colab": {
          "base_uri": "https://localhost:8080/"
        },
        "id": "BERh4IjKa2NA",
        "outputId": "deb2f10a-70e9-4fde-f3d7-8f2535cb4fd3"
      },
      "execution_count": 7,
      "outputs": [
        {
          "output_type": "stream",
          "name": "stdout",
          "text": [
            "Train: (289752, 10, 4)  Test: (72439, 10, 4)\n"
          ]
        }
      ]
    },
    {
      "cell_type": "code",
      "source": [
        "model = Sequential()\n",
        "model.add(GRU(128, input_shape=(10, 4), return_sequences=False))\n",
        "model.add(Dropout(0.3))\n",
        "model.add(Dense(1))\n",
        "\n",
        "model.compile(optimizer='adam', loss='mse')\n",
        "model.summary()\n"
      ],
      "metadata": {
        "colab": {
          "base_uri": "https://localhost:8080/",
          "height": 280
        },
        "id": "0ZAHju6Ya4ol",
        "outputId": "494ab1b5-3e17-44aa-bda2-782335910022"
      },
      "execution_count": 8,
      "outputs": [
        {
          "output_type": "stream",
          "name": "stderr",
          "text": [
            "/usr/local/lib/python3.12/dist-packages/keras/src/layers/rnn/rnn.py:199: UserWarning: Do not pass an `input_shape`/`input_dim` argument to a layer. When using Sequential models, prefer using an `Input(shape)` object as the first layer in the model instead.\n",
            "  super().__init__(**kwargs)\n"
          ]
        },
        {
          "output_type": "display_data",
          "data": {
            "text/plain": [
              "\u001b[1mModel: \"sequential\"\u001b[0m\n"
            ],
            "text/html": [
              "<pre style=\"white-space:pre;overflow-x:auto;line-height:normal;font-family:Menlo,'DejaVu Sans Mono',consolas,'Courier New',monospace\"><span style=\"font-weight: bold\">Model: \"sequential\"</span>\n",
              "</pre>\n"
            ]
          },
          "metadata": {}
        },
        {
          "output_type": "display_data",
          "data": {
            "text/plain": [
              "┏━━━━━━━━━━━━━━━━━━━━━━━━━━━━━━━━━┳━━━━━━━━━━━━━━━━━━━━━━━━┳━━━━━━━━━━━━━━━┓\n",
              "┃\u001b[1m \u001b[0m\u001b[1mLayer (type)                   \u001b[0m\u001b[1m \u001b[0m┃\u001b[1m \u001b[0m\u001b[1mOutput Shape          \u001b[0m\u001b[1m \u001b[0m┃\u001b[1m \u001b[0m\u001b[1m      Param #\u001b[0m\u001b[1m \u001b[0m┃\n",
              "┡━━━━━━━━━━━━━━━━━━━━━━━━━━━━━━━━━╇━━━━━━━━━━━━━━━━━━━━━━━━╇━━━━━━━━━━━━━━━┩\n",
              "│ gru (\u001b[38;5;33mGRU\u001b[0m)                       │ (\u001b[38;5;45mNone\u001b[0m, \u001b[38;5;34m128\u001b[0m)            │        \u001b[38;5;34m51,456\u001b[0m │\n",
              "├─────────────────────────────────┼────────────────────────┼───────────────┤\n",
              "│ dropout (\u001b[38;5;33mDropout\u001b[0m)               │ (\u001b[38;5;45mNone\u001b[0m, \u001b[38;5;34m128\u001b[0m)            │             \u001b[38;5;34m0\u001b[0m │\n",
              "├─────────────────────────────────┼────────────────────────┼───────────────┤\n",
              "│ dense (\u001b[38;5;33mDense\u001b[0m)                   │ (\u001b[38;5;45mNone\u001b[0m, \u001b[38;5;34m1\u001b[0m)              │           \u001b[38;5;34m129\u001b[0m │\n",
              "└─────────────────────────────────┴────────────────────────┴───────────────┘\n"
            ],
            "text/html": [
              "<pre style=\"white-space:pre;overflow-x:auto;line-height:normal;font-family:Menlo,'DejaVu Sans Mono',consolas,'Courier New',monospace\">┏━━━━━━━━━━━━━━━━━━━━━━━━━━━━━━━━━┳━━━━━━━━━━━━━━━━━━━━━━━━┳━━━━━━━━━━━━━━━┓\n",
              "┃<span style=\"font-weight: bold\"> Layer (type)                    </span>┃<span style=\"font-weight: bold\"> Output Shape           </span>┃<span style=\"font-weight: bold\">       Param # </span>┃\n",
              "┡━━━━━━━━━━━━━━━━━━━━━━━━━━━━━━━━━╇━━━━━━━━━━━━━━━━━━━━━━━━╇━━━━━━━━━━━━━━━┩\n",
              "│ gru (<span style=\"color: #0087ff; text-decoration-color: #0087ff\">GRU</span>)                       │ (<span style=\"color: #00d7ff; text-decoration-color: #00d7ff\">None</span>, <span style=\"color: #00af00; text-decoration-color: #00af00\">128</span>)            │        <span style=\"color: #00af00; text-decoration-color: #00af00\">51,456</span> │\n",
              "├─────────────────────────────────┼────────────────────────┼───────────────┤\n",
              "│ dropout (<span style=\"color: #0087ff; text-decoration-color: #0087ff\">Dropout</span>)               │ (<span style=\"color: #00d7ff; text-decoration-color: #00d7ff\">None</span>, <span style=\"color: #00af00; text-decoration-color: #00af00\">128</span>)            │             <span style=\"color: #00af00; text-decoration-color: #00af00\">0</span> │\n",
              "├─────────────────────────────────┼────────────────────────┼───────────────┤\n",
              "│ dense (<span style=\"color: #0087ff; text-decoration-color: #0087ff\">Dense</span>)                   │ (<span style=\"color: #00d7ff; text-decoration-color: #00d7ff\">None</span>, <span style=\"color: #00af00; text-decoration-color: #00af00\">1</span>)              │           <span style=\"color: #00af00; text-decoration-color: #00af00\">129</span> │\n",
              "└─────────────────────────────────┴────────────────────────┴───────────────┘\n",
              "</pre>\n"
            ]
          },
          "metadata": {}
        },
        {
          "output_type": "display_data",
          "data": {
            "text/plain": [
              "\u001b[1m Total params: \u001b[0m\u001b[38;5;34m51,585\u001b[0m (201.50 KB)\n"
            ],
            "text/html": [
              "<pre style=\"white-space:pre;overflow-x:auto;line-height:normal;font-family:Menlo,'DejaVu Sans Mono',consolas,'Courier New',monospace\"><span style=\"font-weight: bold\"> Total params: </span><span style=\"color: #00af00; text-decoration-color: #00af00\">51,585</span> (201.50 KB)\n",
              "</pre>\n"
            ]
          },
          "metadata": {}
        },
        {
          "output_type": "display_data",
          "data": {
            "text/plain": [
              "\u001b[1m Trainable params: \u001b[0m\u001b[38;5;34m51,585\u001b[0m (201.50 KB)\n"
            ],
            "text/html": [
              "<pre style=\"white-space:pre;overflow-x:auto;line-height:normal;font-family:Menlo,'DejaVu Sans Mono',consolas,'Courier New',monospace\"><span style=\"font-weight: bold\"> Trainable params: </span><span style=\"color: #00af00; text-decoration-color: #00af00\">51,585</span> (201.50 KB)\n",
              "</pre>\n"
            ]
          },
          "metadata": {}
        },
        {
          "output_type": "display_data",
          "data": {
            "text/plain": [
              "\u001b[1m Non-trainable params: \u001b[0m\u001b[38;5;34m0\u001b[0m (0.00 B)\n"
            ],
            "text/html": [
              "<pre style=\"white-space:pre;overflow-x:auto;line-height:normal;font-family:Menlo,'DejaVu Sans Mono',consolas,'Courier New',monospace\"><span style=\"font-weight: bold\"> Non-trainable params: </span><span style=\"color: #00af00; text-decoration-color: #00af00\">0</span> (0.00 B)\n",
              "</pre>\n"
            ]
          },
          "metadata": {}
        }
      ]
    },
    {
      "cell_type": "code",
      "source": [
        "history = model.fit(\n",
        "    X_train, y_train,\n",
        "    epochs=50,\n",
        "    batch_size=64,\n",
        "    validation_data=(X_test, y_test),\n",
        "    verbose=1\n",
        ")\n"
      ],
      "metadata": {
        "colab": {
          "base_uri": "https://localhost:8080/"
        },
        "id": "3ydRTWbsbCJT",
        "outputId": "8c082eee-1105-417d-8bfc-4782d9b7c750"
      },
      "execution_count": null,
      "outputs": [
        {
          "output_type": "stream",
          "name": "stdout",
          "text": [
            "Epoch 1/50\n",
            "\u001b[1m4528/4528\u001b[0m \u001b[32m━━━━━━━━━━━━━━━━━━━━\u001b[0m\u001b[37m\u001b[0m \u001b[1m102s\u001b[0m 21ms/step - loss: 0.0817 - val_loss: 1.9285e-04\n",
            "Epoch 2/50\n",
            "\u001b[1m4528/4528\u001b[0m \u001b[32m━━━━━━━━━━━━━━━━━━━━\u001b[0m\u001b[37m\u001b[0m \u001b[1m94s\u001b[0m 21ms/step - loss: 1.2744e-04 - val_loss: 8.1308e-05\n",
            "Epoch 3/50\n",
            "\u001b[1m4528/4528\u001b[0m \u001b[32m━━━━━━━━━━━━━━━━━━━━\u001b[0m\u001b[37m\u001b[0m \u001b[1m94s\u001b[0m 21ms/step - loss: 1.0381e-04 - val_loss: 9.3143e-05\n",
            "Epoch 4/50\n",
            "\u001b[1m4528/4528\u001b[0m \u001b[32m━━━━━━━━━━━━━━━━━━━━\u001b[0m\u001b[37m\u001b[0m \u001b[1m94s\u001b[0m 21ms/step - loss: 7.9363e-05 - val_loss: 4.5628e-05\n",
            "Epoch 5/50\n",
            "\u001b[1m4528/4528\u001b[0m \u001b[32m━━━━━━━━━━━━━━━━━━━━\u001b[0m\u001b[37m\u001b[0m \u001b[1m96s\u001b[0m 21ms/step - loss: 7.3546e-05 - val_loss: 5.1834e-05\n",
            "Epoch 6/50\n",
            "\u001b[1m4528/4528\u001b[0m \u001b[32m━━━━━━━━━━━━━━━━━━━━\u001b[0m\u001b[37m\u001b[0m \u001b[1m95s\u001b[0m 21ms/step - loss: 7.3097e-05 - val_loss: 6.9185e-05\n",
            "Epoch 7/50\n",
            "\u001b[1m4528/4528\u001b[0m \u001b[32m━━━━━━━━━━━━━━━━━━━━\u001b[0m\u001b[37m\u001b[0m \u001b[1m95s\u001b[0m 21ms/step - loss: 7.6812e-05 - val_loss: 2.9736e-05\n",
            "Epoch 8/50\n",
            "\u001b[1m4528/4528\u001b[0m \u001b[32m━━━━━━━━━━━━━━━━━━━━\u001b[0m\u001b[37m\u001b[0m \u001b[1m97s\u001b[0m 21ms/step - loss: 6.9689e-05 - val_loss: 6.5994e-05\n",
            "Epoch 9/50\n",
            "\u001b[1m4528/4528\u001b[0m \u001b[32m━━━━━━━━━━━━━━━━━━━━\u001b[0m\u001b[37m\u001b[0m \u001b[1m92s\u001b[0m 20ms/step - loss: 6.7190e-05 - val_loss: 3.9459e-05\n",
            "Epoch 10/50\n",
            "\u001b[1m4528/4528\u001b[0m \u001b[32m━━━━━━━━━━━━━━━━━━━━\u001b[0m\u001b[37m\u001b[0m \u001b[1m94s\u001b[0m 21ms/step - loss: 6.8258e-05 - val_loss: 4.0836e-05\n",
            "Epoch 11/50\n",
            "\u001b[1m4528/4528\u001b[0m \u001b[32m━━━━━━━━━━━━━━━━━━━━\u001b[0m\u001b[37m\u001b[0m \u001b[1m93s\u001b[0m 20ms/step - loss: 6.6997e-05 - val_loss: 4.4831e-05\n",
            "Epoch 12/50\n",
            "\u001b[1m4528/4528\u001b[0m \u001b[32m━━━━━━━━━━━━━━━━━━━━\u001b[0m\u001b[37m\u001b[0m \u001b[1m94s\u001b[0m 21ms/step - loss: 6.7259e-05 - val_loss: 4.6126e-05\n",
            "Epoch 13/50\n",
            "\u001b[1m4528/4528\u001b[0m \u001b[32m━━━━━━━━━━━━━━━━━━━━\u001b[0m\u001b[37m\u001b[0m \u001b[1m94s\u001b[0m 21ms/step - loss: 7.3154e-05 - val_loss: 2.9538e-05\n",
            "Epoch 14/50\n",
            "\u001b[1m4528/4528\u001b[0m \u001b[32m━━━━━━━━━━━━━━━━━━━━\u001b[0m\u001b[37m\u001b[0m \u001b[1m92s\u001b[0m 20ms/step - loss: 6.2854e-05 - val_loss: 3.3406e-05\n",
            "Epoch 15/50\n",
            "\u001b[1m4528/4528\u001b[0m \u001b[32m━━━━━━━━━━━━━━━━━━━━\u001b[0m\u001b[37m\u001b[0m \u001b[1m145s\u001b[0m 21ms/step - loss: 6.7804e-05 - val_loss: 3.1452e-05\n",
            "Epoch 16/50\n",
            "\u001b[1m4528/4528\u001b[0m \u001b[32m━━━━━━━━━━━━━━━━━━━━\u001b[0m\u001b[37m\u001b[0m \u001b[1m97s\u001b[0m 21ms/step - loss: 6.6866e-05 - val_loss: 6.1173e-05\n",
            "Epoch 17/50\n",
            "\u001b[1m4528/4528\u001b[0m \u001b[32m━━━━━━━━━━━━━━━━━━━━\u001b[0m\u001b[37m\u001b[0m \u001b[1m93s\u001b[0m 20ms/step - loss: 6.4024e-05 - val_loss: 8.6566e-05\n",
            "Epoch 18/50\n",
            "\u001b[1m4528/4528\u001b[0m \u001b[32m━━━━━━━━━━━━━━━━━━━━\u001b[0m\u001b[37m\u001b[0m \u001b[1m143s\u001b[0m 21ms/step - loss: 6.9280e-05 - val_loss: 4.5104e-05\n",
            "Epoch 19/50\n",
            "\u001b[1m4528/4528\u001b[0m \u001b[32m━━━━━━━━━━━━━━━━━━━━\u001b[0m\u001b[37m\u001b[0m \u001b[1m95s\u001b[0m 21ms/step - loss: 6.4511e-05 - val_loss: 3.8550e-05\n",
            "Epoch 20/50\n",
            "\u001b[1m4528/4528\u001b[0m \u001b[32m━━━━━━━━━━━━━━━━━━━━\u001b[0m\u001b[37m\u001b[0m \u001b[1m142s\u001b[0m 21ms/step - loss: 6.4641e-05 - val_loss: 6.4338e-05\n",
            "Epoch 21/50\n",
            "\u001b[1m4528/4528\u001b[0m \u001b[32m━━━━━━━━━━━━━━━━━━━━\u001b[0m\u001b[37m\u001b[0m \u001b[1m95s\u001b[0m 21ms/step - loss: 7.6252e-05 - val_loss: 3.1843e-05\n",
            "Epoch 22/50\n",
            "\u001b[1m4528/4528\u001b[0m \u001b[32m━━━━━━━━━━━━━━━━━━━━\u001b[0m\u001b[37m\u001b[0m \u001b[1m93s\u001b[0m 20ms/step - loss: 7.0025e-05 - val_loss: 4.0784e-05\n",
            "Epoch 23/50\n",
            "\u001b[1m4528/4528\u001b[0m \u001b[32m━━━━━━━━━━━━━━━━━━━━\u001b[0m\u001b[37m\u001b[0m \u001b[1m100s\u001b[0m 22ms/step - loss: 6.2494e-05 - val_loss: 3.1049e-05\n",
            "Epoch 24/50\n",
            "\u001b[1m4528/4528\u001b[0m \u001b[32m━━━━━━━━━━━━━━━━━━━━\u001b[0m\u001b[37m\u001b[0m \u001b[1m96s\u001b[0m 21ms/step - loss: 6.3966e-05 - val_loss: 3.7356e-05\n",
            "Epoch 25/50\n",
            "\u001b[1m4528/4528\u001b[0m \u001b[32m━━━━━━━━━━━━━━━━━━━━\u001b[0m\u001b[37m\u001b[0m \u001b[1m95s\u001b[0m 21ms/step - loss: 6.2552e-05 - val_loss: 2.9943e-05\n",
            "Epoch 26/50\n",
            "\u001b[1m4528/4528\u001b[0m \u001b[32m━━━━━━━━━━━━━━━━━━━━\u001b[0m\u001b[37m\u001b[0m \u001b[1m94s\u001b[0m 21ms/step - loss: 6.2789e-05 - val_loss: 3.7670e-05\n",
            "Epoch 27/50\n",
            "\u001b[1m4528/4528\u001b[0m \u001b[32m━━━━━━━━━━━━━━━━━━━━\u001b[0m\u001b[37m\u001b[0m \u001b[1m95s\u001b[0m 21ms/step - loss: 7.7157e-05 - val_loss: 1.4342e-04\n",
            "Epoch 28/50\n",
            "\u001b[1m4528/4528\u001b[0m \u001b[32m━━━━━━━━━━━━━━━━━━━━\u001b[0m\u001b[37m\u001b[0m \u001b[1m95s\u001b[0m 21ms/step - loss: 7.0958e-05 - val_loss: 3.1878e-05\n",
            "Epoch 29/50\n",
            "\u001b[1m4528/4528\u001b[0m \u001b[32m━━━━━━━━━━━━━━━━━━━━\u001b[0m\u001b[37m\u001b[0m \u001b[1m97s\u001b[0m 21ms/step - loss: 6.6284e-05 - val_loss: 4.4529e-05\n",
            "Epoch 30/50\n",
            "\u001b[1m4528/4528\u001b[0m \u001b[32m━━━━━━━━━━━━━━━━━━━━\u001b[0m\u001b[37m\u001b[0m \u001b[1m139s\u001b[0m 21ms/step - loss: 8.8118e-05 - val_loss: 6.0424e-05\n",
            "Epoch 31/50\n",
            "\u001b[1m4528/4528\u001b[0m \u001b[32m━━━━━━━━━━━━━━━━━━━━\u001b[0m\u001b[37m\u001b[0m \u001b[1m140s\u001b[0m 20ms/step - loss: 6.2281e-05 - val_loss: 7.5911e-05\n",
            "Epoch 32/50\n",
            "\u001b[1m4528/4528\u001b[0m \u001b[32m━━━━━━━━━━━━━━━━━━━━\u001b[0m\u001b[37m\u001b[0m \u001b[1m95s\u001b[0m 21ms/step - loss: 6.6191e-05 - val_loss: 3.4722e-05\n",
            "Epoch 33/50\n",
            "\u001b[1m4528/4528\u001b[0m \u001b[32m━━━━━━━━━━━━━━━━━━━━\u001b[0m\u001b[37m\u001b[0m \u001b[1m96s\u001b[0m 21ms/step - loss: 7.1196e-05 - val_loss: 5.7312e-04\n",
            "Epoch 34/50\n",
            "\u001b[1m4528/4528\u001b[0m \u001b[32m━━━━━━━━━━━━━━━━━━━━\u001b[0m\u001b[37m\u001b[0m \u001b[1m94s\u001b[0m 21ms/step - loss: 6.5504e-05 - val_loss: 2.9710e-05\n",
            "Epoch 35/50\n",
            "\u001b[1m4528/4528\u001b[0m \u001b[32m━━━━━━━━━━━━━━━━━━━━\u001b[0m\u001b[37m\u001b[0m \u001b[1m95s\u001b[0m 21ms/step - loss: 6.2318e-05 - val_loss: 4.1710e-05\n",
            "Epoch 36/50\n",
            "\u001b[1m4528/4528\u001b[0m \u001b[32m━━━━━━━━━━━━━━━━━━━━\u001b[0m\u001b[37m\u001b[0m \u001b[1m96s\u001b[0m 21ms/step - loss: 6.4361e-05 - val_loss: 3.0855e-05\n",
            "Epoch 37/50\n",
            "\u001b[1m 392/4528\u001b[0m \u001b[32m━\u001b[0m\u001b[37m━━━━━━━━━━━━━━━━━━━\u001b[0m \u001b[1m1:15\u001b[0m 18ms/step - loss: 6.3930e-05"
          ]
        }
      ]
    },
    {
      "cell_type": "code",
      "source": [
        "import matplotlib.pyplot as plt\n",
        "\n",
        "plt.figure(figsize=(10,6))\n",
        "plt.plot(history.history['loss'], label='Training Loss')\n",
        "plt.plot(history.history['val_loss'], label='Validation Loss')\n",
        "plt.xlabel('Epochs')\n",
        "plt.ylabel('Loss (MSE)')\n",
        "plt.title('Multi-City GRU Training vs Validation Loss')\n",
        "plt.legend()\n",
        "plt.grid(True)\n",
        "plt.show()\n"
      ],
      "metadata": {
        "id": "HhRSfAvMvRyl"
      },
      "execution_count": null,
      "outputs": []
    },
    {
      "cell_type": "code",
      "source": [
        "y_pred = model.predict(X_test)\n",
        "\n",
        "from sklearn.metrics import mean_squared_error, mean_absolute_error, r2_score\n",
        "\n",
        "rmse = np.sqrt(mean_squared_error(y_test, y_pred))\n",
        "mae = mean_absolute_error(y_test, y_pred)\n",
        "r2 = r2_score(y_test, y_pred)\n",
        "\n",
        "print(f\"RMSE: {rmse:.4f}\")\n",
        "print(f\"MAE : {mae:.4f}\")\n",
        "print(f\"R² Score: {r2:.4f}\")\n"
      ],
      "metadata": {
        "id": "bF-5SxgvveNn"
      },
      "execution_count": null,
      "outputs": []
    },
    {
      "cell_type": "code",
      "source": [
        "city_id = le.transform(['Mumbai'])[0]\n",
        "city_df = df[df['city_id'] == city_id].copy()\n",
        "city_df = city_df.sort_values('sampling_date')\n",
        "\n",
        "last_seq = city_df[['so2', 'no2', 'rspm', 'city_id']].values[-10:]\n",
        "future_preds = []\n",
        "\n",
        "for _ in range(7):  # predict next 7 days\n",
        "    pred = model.predict(last_seq.reshape(1, 10, 4))\n",
        "    future_preds.append(pred[0,0])\n",
        "    new_row = np.array([[0, 0, pred[0,0], city_id]])  # placeholders for so2,no2\n",
        "    last_seq = np.concatenate((last_seq[1:], new_row), axis=0)\n"
      ],
      "metadata": {
        "id": "VOdA1R1jwMzA"
      },
      "execution_count": null,
      "outputs": []
    },
    {
      "cell_type": "code",
      "source": [
        "future_preds_real = scaler.inverse_transform(\n",
        "    np.concatenate((np.zeros((len(future_preds), 2)), np.array(future_preds).reshape(-1,1)), axis=1)\n",
        ")[:, 2]\n",
        "\n",
        "print(\"Next 7 days RSPM predictions for Mumbai:\")\n",
        "print(future_preds_real)"
      ],
      "metadata": {
        "id": "A7AbVgEKwTK4"
      },
      "execution_count": null,
      "outputs": []
    },
    {
      "cell_type": "code",
      "source": [
        "last_date = city_df['sampling_date'].max()\n",
        "future_dates = pd.date_range(start=last_date + pd.Timedelta(days=1), periods=7)\n",
        "\n",
        "plt.figure(figsize=(10,5))\n",
        "plt.plot(future_dates, future_preds_real, marker='o', color='orange', linewidth=2)\n",
        "plt.title(f'Predicted RSPM Levels for Next 7 Days — {le.inverse_transform([city_id])[0]}')\n",
        "plt.xlabel('Date')\n",
        "plt.ylabel('Predicted RSPM (µg/m³)')\n",
        "plt.grid(True, linestyle='--', alpha=0.6)\n",
        "plt.xticks(rotation=45)\n",
        "plt.tight_layout()\n",
        "plt.show()"
      ],
      "metadata": {
        "id": "Dk71iajHwgJt"
      },
      "execution_count": null,
      "outputs": []
    }
  ],
  "metadata": {
    "colab": {
      "provenance": [],
      "include_colab_link": true
    },
    "kernelspec": {
      "display_name": "Python 3",
      "language": "python",
      "name": "python3"
    },
    "language_info": {
      "codemirror_mode": {
        "name": "ipython",
        "version": 3
      },
      "file_extension": ".py",
      "mimetype": "text/x-python",
      "name": "python",
      "nbconvert_exporter": "python",
      "pygments_lexer": "ipython3",
      "version": "3.11.0"
    }
  },
  "nbformat": 4,
  "nbformat_minor": 0
}
